{
 "cells": [
  {
   "cell_type": "markdown",
   "id": "e57b957b",
   "metadata": {},
   "source": [
    "# Used Cars price prediction"
   ]
  },
  {
   "cell_type": "markdown",
   "id": "13bcbdf3",
   "metadata": {},
   "source": [
    "With the covid 19 impact in the market, we have seen lot of changes in the car market. Now some cars are in demand hence making them costly and some are not in demand hence cheaper. One of our clients works with small traders, who sell used cars. With the change in market due to covid 19 impact, our client is facing problems with their previous car price valuation machine learning models. So, they are looking for new machine learning models from new data. We have to make car price valuation model."
   ]
  },
  {
   "cell_type": "markdown",
   "id": "d6ed9a91",
   "metadata": {},
   "source": [
    "Used Car Model - This shows the car model names\n",
    "\n",
    "Year of Manufacture - Gives us the year in which the car was made\n",
    "\n",
    "Kilometers Driven - Number of kilometers the car the driven reflecting on the Odometer\n",
    "\n",
    "Fuel Type - Shows the fuel type used by the vehicle\n",
    "\n",
    "Transmission Type - Gives us the manual or automatic gear shifting mechanism\n",
    "\n",
    "Used Car Price - Lists the selling price of the used cars\n",
    "\n",
    "Location - Gives us the place where the used cars belong to."
   ]
  },
  {
   "cell_type": "markdown",
   "id": "f0e4b0b2",
   "metadata": {},
   "source": [
    "# Import Libraries"
   ]
  },
  {
   "cell_type": "code",
   "execution_count": 156,
   "id": "6ca1f27a",
   "metadata": {},
   "outputs": [],
   "source": [
    "import numpy as np\n",
    "import pandas as pd\n",
    "import matplotlib.pyplot as plt\n",
    "import seaborn as sns\n",
    "import sklearn\n",
    "\n",
    "from sklearn.preprocessing import LabelEncoder\n",
    "from sklearn.preprocessing import StandardScaler\n",
    "\n",
    "import warnings\n",
    "warnings.filterwarnings('ignore')"
   ]
  },
  {
   "cell_type": "markdown",
   "id": "d2509e34",
   "metadata": {},
   "source": [
    "# Load Dataset"
   ]
  },
  {
   "cell_type": "code",
   "execution_count": 157,
   "id": "75c53e69",
   "metadata": {
    "scrolled": true
   },
   "outputs": [
    {
     "data": {
      "text/html": [
       "<div>\n",
       "<style scoped>\n",
       "    .dataframe tbody tr th:only-of-type {\n",
       "        vertical-align: middle;\n",
       "    }\n",
       "\n",
       "    .dataframe tbody tr th {\n",
       "        vertical-align: top;\n",
       "    }\n",
       "\n",
       "    .dataframe thead th {\n",
       "        text-align: right;\n",
       "    }\n",
       "</style>\n",
       "<table border=\"1\" class=\"dataframe\">\n",
       "  <thead>\n",
       "    <tr style=\"text-align: right;\">\n",
       "      <th></th>\n",
       "      <th>Used Car Model</th>\n",
       "      <th>Year of Manufacture</th>\n",
       "      <th>Kilometers Driven</th>\n",
       "      <th>Fuel Type</th>\n",
       "      <th>Transmission Type</th>\n",
       "      <th>Used Car Price</th>\n",
       "      <th>Location</th>\n",
       "    </tr>\n",
       "  </thead>\n",
       "  <tbody>\n",
       "    <tr>\n",
       "      <th>0</th>\n",
       "      <td>Hyundai</td>\n",
       "      <td>2017</td>\n",
       "      <td>2,200 km</td>\n",
       "      <td>Petrol</td>\n",
       "      <td>Manual</td>\n",
       "      <td>5,25,000</td>\n",
       "      <td>Delhi</td>\n",
       "    </tr>\n",
       "    <tr>\n",
       "      <th>1</th>\n",
       "      <td>Hyundai</td>\n",
       "      <td>2013</td>\n",
       "      <td>91,500 km</td>\n",
       "      <td>Diesel</td>\n",
       "      <td>Manual</td>\n",
       "      <td>5,95,000</td>\n",
       "      <td>Delhi</td>\n",
       "    </tr>\n",
       "    <tr>\n",
       "      <th>2</th>\n",
       "      <td>Ford</td>\n",
       "      <td>2017</td>\n",
       "      <td>36,000 km</td>\n",
       "      <td>Diesel</td>\n",
       "      <td>Manual</td>\n",
       "      <td>7,75,000</td>\n",
       "      <td>Delhi</td>\n",
       "    </tr>\n",
       "    <tr>\n",
       "      <th>3</th>\n",
       "      <td>Honda</td>\n",
       "      <td>2015</td>\n",
       "      <td>90,000 km</td>\n",
       "      <td>Diesel</td>\n",
       "      <td>Manual</td>\n",
       "      <td>4,00,000</td>\n",
       "      <td>Delhi</td>\n",
       "    </tr>\n",
       "    <tr>\n",
       "      <th>4</th>\n",
       "      <td>Maruti Suzuki</td>\n",
       "      <td>2010</td>\n",
       "      <td>40,000 km</td>\n",
       "      <td>Petrol</td>\n",
       "      <td>Manual</td>\n",
       "      <td>2,30,000</td>\n",
       "      <td>Delhi</td>\n",
       "    </tr>\n",
       "  </tbody>\n",
       "</table>\n",
       "</div>"
      ],
      "text/plain": [
       "  Used Car Model Year of Manufacture Kilometers Driven Fuel Type  \\\n",
       "0        Hyundai                2017          2,200 km    Petrol   \n",
       "1        Hyundai                2013         91,500 km    Diesel   \n",
       "2           Ford                2017         36,000 km    Diesel   \n",
       "3          Honda                2015         90,000 km    Diesel   \n",
       "4  Maruti Suzuki                2010         40,000 km    Petrol   \n",
       "\n",
       "  Transmission Type Used Car Price Location  \n",
       "0            Manual       5,25,000    Delhi  \n",
       "1            Manual       5,95,000    Delhi  \n",
       "2            Manual       7,75,000    Delhi  \n",
       "3            Manual       4,00,000    Delhi  \n",
       "4            Manual       2,30,000    Delhi  "
      ]
     },
     "execution_count": 157,
     "metadata": {},
     "output_type": "execute_result"
    }
   ],
   "source": [
    "df=pd.read_csv(\"used_cars.csv\")\n",
    "df.head()"
   ]
  },
  {
   "cell_type": "markdown",
   "id": "51388175",
   "metadata": {},
   "source": [
    "# EDA"
   ]
  },
  {
   "cell_type": "code",
   "execution_count": 158,
   "id": "6c83916a",
   "metadata": {},
   "outputs": [],
   "source": [
    "pd.set_option('display.max_rows', None)"
   ]
  },
  {
   "cell_type": "code",
   "execution_count": 159,
   "id": "423eccf2",
   "metadata": {},
   "outputs": [
    {
     "data": {
      "text/html": [
       "<div>\n",
       "<style scoped>\n",
       "    .dataframe tbody tr th:only-of-type {\n",
       "        vertical-align: middle;\n",
       "    }\n",
       "\n",
       "    .dataframe tbody tr th {\n",
       "        vertical-align: top;\n",
       "    }\n",
       "\n",
       "    .dataframe thead th {\n",
       "        text-align: right;\n",
       "    }\n",
       "</style>\n",
       "<table border=\"1\" class=\"dataframe\">\n",
       "  <thead>\n",
       "    <tr style=\"text-align: right;\">\n",
       "      <th></th>\n",
       "      <th>Used Car Model</th>\n",
       "      <th>Year of Manufacture</th>\n",
       "      <th>Kilometers Driven</th>\n",
       "      <th>Fuel Type</th>\n",
       "      <th>Transmission Type</th>\n",
       "      <th>Used Car Price</th>\n",
       "      <th>Location</th>\n",
       "    </tr>\n",
       "  </thead>\n",
       "  <tbody>\n",
       "    <tr>\n",
       "      <th>0</th>\n",
       "      <td>Hyundai</td>\n",
       "      <td>2017</td>\n",
       "      <td>2,200 km</td>\n",
       "      <td>Petrol</td>\n",
       "      <td>Manual</td>\n",
       "      <td>5,25,000</td>\n",
       "      <td>Delhi</td>\n",
       "    </tr>\n",
       "    <tr>\n",
       "      <th>1</th>\n",
       "      <td>Hyundai</td>\n",
       "      <td>2013</td>\n",
       "      <td>91,500 km</td>\n",
       "      <td>Diesel</td>\n",
       "      <td>Manual</td>\n",
       "      <td>5,95,000</td>\n",
       "      <td>Delhi</td>\n",
       "    </tr>\n",
       "    <tr>\n",
       "      <th>2</th>\n",
       "      <td>Ford</td>\n",
       "      <td>2017</td>\n",
       "      <td>36,000 km</td>\n",
       "      <td>Diesel</td>\n",
       "      <td>Manual</td>\n",
       "      <td>7,75,000</td>\n",
       "      <td>Delhi</td>\n",
       "    </tr>\n",
       "    <tr>\n",
       "      <th>3</th>\n",
       "      <td>Honda</td>\n",
       "      <td>2015</td>\n",
       "      <td>90,000 km</td>\n",
       "      <td>Diesel</td>\n",
       "      <td>Manual</td>\n",
       "      <td>4,00,000</td>\n",
       "      <td>Delhi</td>\n",
       "    </tr>\n",
       "    <tr>\n",
       "      <th>4</th>\n",
       "      <td>Maruti Suzuki</td>\n",
       "      <td>2010</td>\n",
       "      <td>40,000 km</td>\n",
       "      <td>Petrol</td>\n",
       "      <td>Manual</td>\n",
       "      <td>2,30,000</td>\n",
       "      <td>Delhi</td>\n",
       "    </tr>\n",
       "    <tr>\n",
       "      <th>5</th>\n",
       "      <td>Maruti Suzuki</td>\n",
       "      <td>2020</td>\n",
       "      <td>19,000 km</td>\n",
       "      <td>Petrol</td>\n",
       "      <td>Manual</td>\n",
       "      <td>4,55,000</td>\n",
       "      <td>Delhi</td>\n",
       "    </tr>\n",
       "    <tr>\n",
       "      <th>6</th>\n",
       "      <td>BMW</td>\n",
       "      <td>2018</td>\n",
       "      <td>49,000 km</td>\n",
       "      <td>Diesel</td>\n",
       "      <td>Automatic</td>\n",
       "      <td>54,00,000</td>\n",
       "      <td>Delhi</td>\n",
       "    </tr>\n",
       "    <tr>\n",
       "      <th>7</th>\n",
       "      <td>Audi</td>\n",
       "      <td>2016</td>\n",
       "      <td>36,000 km</td>\n",
       "      <td>Diesel</td>\n",
       "      <td>Automatic</td>\n",
       "      <td>24,00,000</td>\n",
       "      <td>Delhi</td>\n",
       "    </tr>\n",
       "    <tr>\n",
       "      <th>8</th>\n",
       "      <td>Mahindra</td>\n",
       "      <td>2011</td>\n",
       "      <td>95,000 km</td>\n",
       "      <td>Diesel</td>\n",
       "      <td>Manual</td>\n",
       "      <td>3,65,000</td>\n",
       "      <td>Delhi</td>\n",
       "    </tr>\n",
       "    <tr>\n",
       "      <th>9</th>\n",
       "      <td>Ford</td>\n",
       "      <td>2016</td>\n",
       "      <td>68,000 km</td>\n",
       "      <td>Diesel</td>\n",
       "      <td>-</td>\n",
       "      <td>6,20,000</td>\n",
       "      <td>Delhi</td>\n",
       "    </tr>\n",
       "  </tbody>\n",
       "</table>\n",
       "</div>"
      ],
      "text/plain": [
       "  Used Car Model Year of Manufacture Kilometers Driven Fuel Type  \\\n",
       "0        Hyundai                2017          2,200 km    Petrol   \n",
       "1        Hyundai                2013         91,500 km    Diesel   \n",
       "2           Ford                2017         36,000 km    Diesel   \n",
       "3          Honda                2015         90,000 km    Diesel   \n",
       "4  Maruti Suzuki                2010         40,000 km    Petrol   \n",
       "5  Maruti Suzuki                2020         19,000 km    Petrol   \n",
       "6            BMW                2018         49,000 km    Diesel   \n",
       "7           Audi                2016         36,000 km    Diesel   \n",
       "8       Mahindra                2011         95,000 km    Diesel   \n",
       "9           Ford                2016         68,000 km    Diesel   \n",
       "\n",
       "  Transmission Type Used Car Price Location  \n",
       "0            Manual       5,25,000    Delhi  \n",
       "1            Manual       5,95,000    Delhi  \n",
       "2            Manual       7,75,000    Delhi  \n",
       "3            Manual       4,00,000    Delhi  \n",
       "4            Manual       2,30,000    Delhi  \n",
       "5            Manual       4,55,000    Delhi  \n",
       "6         Automatic      54,00,000    Delhi  \n",
       "7         Automatic      24,00,000    Delhi  \n",
       "8            Manual       3,65,000    Delhi  \n",
       "9                 -       6,20,000    Delhi  "
      ]
     },
     "execution_count": 159,
     "metadata": {},
     "output_type": "execute_result"
    }
   ],
   "source": [
    "df.head(10)"
   ]
  },
  {
   "cell_type": "code",
   "execution_count": 160,
   "id": "b5e994e7",
   "metadata": {},
   "outputs": [
    {
     "data": {
      "text/plain": [
       "(8348, 7)"
      ]
     },
     "execution_count": 160,
     "metadata": {},
     "output_type": "execute_result"
    }
   ],
   "source": [
    "df.shape"
   ]
  },
  {
   "cell_type": "code",
   "execution_count": 161,
   "id": "2c70458c",
   "metadata": {},
   "outputs": [
    {
     "data": {
      "text/plain": [
       "Index(['Used Car Model', 'Year of Manufacture', 'Kilometers Driven',\n",
       "       'Fuel Type', 'Transmission Type', 'Used Car Price', 'Location'],\n",
       "      dtype='object')"
      ]
     },
     "execution_count": 161,
     "metadata": {},
     "output_type": "execute_result"
    }
   ],
   "source": [
    "df.columns"
   ]
  },
  {
   "cell_type": "markdown",
   "id": "48204651",
   "metadata": {},
   "source": [
    "# Check for Null Values"
   ]
  },
  {
   "cell_type": "code",
   "execution_count": 162,
   "id": "0b872e89",
   "metadata": {},
   "outputs": [
    {
     "data": {
      "text/plain": [
       "Used Car Model         0\n",
       "Year of Manufacture    0\n",
       "Kilometers Driven      0\n",
       "Fuel Type              0\n",
       "Transmission Type      0\n",
       "Used Car Price         0\n",
       "Location               0\n",
       "dtype: int64"
      ]
     },
     "execution_count": 162,
     "metadata": {},
     "output_type": "execute_result"
    }
   ],
   "source": [
    "df.isnull().sum()"
   ]
  },
  {
   "cell_type": "markdown",
   "id": "4dda05d2",
   "metadata": {},
   "source": [
    "we have no missing values, we have records with \"-\" in it which needs to be dealt with."
   ]
  },
  {
   "cell_type": "code",
   "execution_count": 163,
   "id": "64efedc1",
   "metadata": {},
   "outputs": [
    {
     "data": {
      "text/plain": [
       "Used Car Model         object\n",
       "Year of Manufacture    object\n",
       "Kilometers Driven      object\n",
       "Fuel Type              object\n",
       "Transmission Type      object\n",
       "Used Car Price         object\n",
       "Location               object\n",
       "dtype: object"
      ]
     },
     "execution_count": 163,
     "metadata": {},
     "output_type": "execute_result"
    }
   ],
   "source": [
    "df.dtypes"
   ]
  },
  {
   "cell_type": "code",
   "execution_count": 164,
   "id": "2e74d605",
   "metadata": {},
   "outputs": [
    {
     "name": "stdout",
     "output_type": "stream",
     "text": [
      "<class 'pandas.core.frame.DataFrame'>\n",
      "RangeIndex: 8348 entries, 0 to 8347\n",
      "Data columns (total 7 columns):\n",
      " #   Column               Non-Null Count  Dtype \n",
      "---  ------               --------------  ----- \n",
      " 0   Used Car Model       8348 non-null   object\n",
      " 1   Year of Manufacture  8348 non-null   object\n",
      " 2   Kilometers Driven    8348 non-null   object\n",
      " 3   Fuel Type            8348 non-null   object\n",
      " 4   Transmission Type    8348 non-null   object\n",
      " 5   Used Car Price       8348 non-null   object\n",
      " 6   Location             8348 non-null   object\n",
      "dtypes: object(7)\n",
      "memory usage: 456.7+ KB\n"
     ]
    }
   ],
   "source": [
    "df.info()"
   ]
  },
  {
   "cell_type": "markdown",
   "id": "62a260c7",
   "metadata": {},
   "source": [
    "# To Find Unique Values"
   ]
  },
  {
   "cell_type": "code",
   "execution_count": 165,
   "id": "cd74e7df",
   "metadata": {},
   "outputs": [
    {
     "data": {
      "text/plain": [
       "Transmission Type         3\n",
       "Fuel Type                 6\n",
       "Location                  6\n",
       "Year of Manufacture      31\n",
       "Used Car Price          909\n",
       "Kilometers Driven      1038\n",
       "Used Car Model         1996\n",
       "dtype: int64"
      ]
     },
     "execution_count": 165,
     "metadata": {},
     "output_type": "execute_result"
    }
   ],
   "source": [
    "df.nunique().sort_values()"
   ]
  },
  {
   "cell_type": "markdown",
   "id": "1b3bce11",
   "metadata": {},
   "source": [
    "we can see the number of unique values present in each of the columns in our dataset."
   ]
  },
  {
   "cell_type": "markdown",
   "id": "2a7a13c9",
   "metadata": {},
   "source": [
    "# Data pre processing"
   ]
  },
  {
   "cell_type": "code",
   "execution_count": 166,
   "id": "8ba4990f",
   "metadata": {},
   "outputs": [],
   "source": [
    "df[\"Kilometers Driven\"]=df[\"Kilometers Driven\"].apply(lambda x: x.replace(',','') if x!='-' else '-')"
   ]
  },
  {
   "cell_type": "code",
   "execution_count": 167,
   "id": "454b48b3",
   "metadata": {},
   "outputs": [],
   "source": [
    "df[\"Kilometers Driven\"]=df[\"Kilometers Driven\"].apply(lambda x: int(x.split(' ')[0]) if x!='-' else 0)"
   ]
  },
  {
   "cell_type": "code",
   "execution_count": 168,
   "id": "e50c5b4e",
   "metadata": {},
   "outputs": [
    {
     "data": {
      "text/html": [
       "<div>\n",
       "<style scoped>\n",
       "    .dataframe tbody tr th:only-of-type {\n",
       "        vertical-align: middle;\n",
       "    }\n",
       "\n",
       "    .dataframe tbody tr th {\n",
       "        vertical-align: top;\n",
       "    }\n",
       "\n",
       "    .dataframe thead th {\n",
       "        text-align: right;\n",
       "    }\n",
       "</style>\n",
       "<table border=\"1\" class=\"dataframe\">\n",
       "  <thead>\n",
       "    <tr style=\"text-align: right;\">\n",
       "      <th></th>\n",
       "      <th>Used Car Model</th>\n",
       "      <th>Year of Manufacture</th>\n",
       "      <th>Kilometers Driven</th>\n",
       "      <th>Fuel Type</th>\n",
       "      <th>Transmission Type</th>\n",
       "      <th>Used Car Price</th>\n",
       "      <th>Location</th>\n",
       "    </tr>\n",
       "  </thead>\n",
       "  <tbody>\n",
       "    <tr>\n",
       "      <th>0</th>\n",
       "      <td>Hyundai</td>\n",
       "      <td>2017</td>\n",
       "      <td>2200</td>\n",
       "      <td>Petrol</td>\n",
       "      <td>Manual</td>\n",
       "      <td>5,25,000</td>\n",
       "      <td>Delhi</td>\n",
       "    </tr>\n",
       "    <tr>\n",
       "      <th>1</th>\n",
       "      <td>Hyundai</td>\n",
       "      <td>2013</td>\n",
       "      <td>91500</td>\n",
       "      <td>Diesel</td>\n",
       "      <td>Manual</td>\n",
       "      <td>5,95,000</td>\n",
       "      <td>Delhi</td>\n",
       "    </tr>\n",
       "    <tr>\n",
       "      <th>2</th>\n",
       "      <td>Ford</td>\n",
       "      <td>2017</td>\n",
       "      <td>36000</td>\n",
       "      <td>Diesel</td>\n",
       "      <td>Manual</td>\n",
       "      <td>7,75,000</td>\n",
       "      <td>Delhi</td>\n",
       "    </tr>\n",
       "    <tr>\n",
       "      <th>3</th>\n",
       "      <td>Honda</td>\n",
       "      <td>2015</td>\n",
       "      <td>90000</td>\n",
       "      <td>Diesel</td>\n",
       "      <td>Manual</td>\n",
       "      <td>4,00,000</td>\n",
       "      <td>Delhi</td>\n",
       "    </tr>\n",
       "    <tr>\n",
       "      <th>4</th>\n",
       "      <td>Maruti Suzuki</td>\n",
       "      <td>2010</td>\n",
       "      <td>40000</td>\n",
       "      <td>Petrol</td>\n",
       "      <td>Manual</td>\n",
       "      <td>2,30,000</td>\n",
       "      <td>Delhi</td>\n",
       "    </tr>\n",
       "  </tbody>\n",
       "</table>\n",
       "</div>"
      ],
      "text/plain": [
       "  Used Car Model Year of Manufacture  Kilometers Driven Fuel Type  \\\n",
       "0        Hyundai                2017               2200    Petrol   \n",
       "1        Hyundai                2013              91500    Diesel   \n",
       "2           Ford                2017              36000    Diesel   \n",
       "3          Honda                2015              90000    Diesel   \n",
       "4  Maruti Suzuki                2010              40000    Petrol   \n",
       "\n",
       "  Transmission Type Used Car Price Location  \n",
       "0            Manual       5,25,000    Delhi  \n",
       "1            Manual       5,95,000    Delhi  \n",
       "2            Manual       7,75,000    Delhi  \n",
       "3            Manual       4,00,000    Delhi  \n",
       "4            Manual       2,30,000    Delhi  "
      ]
     },
     "execution_count": 168,
     "metadata": {},
     "output_type": "execute_result"
    }
   ],
   "source": [
    "df.head()"
   ]
  },
  {
   "cell_type": "markdown",
   "id": "633bb8df",
   "metadata": {},
   "source": [
    "The Kilometers Driven column had km extentions that needed to be changed to the numeric data."
   ]
  },
  {
   "cell_type": "code",
   "execution_count": 169,
   "id": "fa952632",
   "metadata": {},
   "outputs": [],
   "source": [
    "try:\n",
    "    df[\"Used Car Price\"]=df[\"Used Car Price\"].apply(lambda x: x.split(' ')[1])\n",
    "except IndexError:\n",
    "    pass\n"
   ]
  },
  {
   "cell_type": "code",
   "execution_count": 170,
   "id": "514ee0e7",
   "metadata": {},
   "outputs": [],
   "source": [
    "try:\n",
    "    df[\"Used Car Price\"]=df[\"Used Car Price\"].apply(lambda x: str(x.replace(',', '')))\n",
    "except ValueError:\n",
    "    pass"
   ]
  },
  {
   "cell_type": "code",
   "execution_count": 171,
   "id": "2451b229",
   "metadata": {},
   "outputs": [],
   "source": [
    "df[\"Used Car Price\"]=pd.to_numeric(df[\"Used Car Price\"].str.replace('-','0'))"
   ]
  },
  {
   "cell_type": "code",
   "execution_count": 172,
   "id": "3b5fde09",
   "metadata": {},
   "outputs": [],
   "source": [
    "df[\"Used Car Price\"]=df[\"Used Car Price\"].astype(float)"
   ]
  },
  {
   "cell_type": "code",
   "execution_count": 173,
   "id": "2da6104f",
   "metadata": {},
   "outputs": [
    {
     "data": {
      "text/html": [
       "<div>\n",
       "<style scoped>\n",
       "    .dataframe tbody tr th:only-of-type {\n",
       "        vertical-align: middle;\n",
       "    }\n",
       "\n",
       "    .dataframe tbody tr th {\n",
       "        vertical-align: top;\n",
       "    }\n",
       "\n",
       "    .dataframe thead th {\n",
       "        text-align: right;\n",
       "    }\n",
       "</style>\n",
       "<table border=\"1\" class=\"dataframe\">\n",
       "  <thead>\n",
       "    <tr style=\"text-align: right;\">\n",
       "      <th></th>\n",
       "      <th>Used Car Model</th>\n",
       "      <th>Year of Manufacture</th>\n",
       "      <th>Kilometers Driven</th>\n",
       "      <th>Fuel Type</th>\n",
       "      <th>Transmission Type</th>\n",
       "      <th>Used Car Price</th>\n",
       "      <th>Location</th>\n",
       "    </tr>\n",
       "  </thead>\n",
       "  <tbody>\n",
       "    <tr>\n",
       "      <th>0</th>\n",
       "      <td>Hyundai</td>\n",
       "      <td>2017</td>\n",
       "      <td>2200</td>\n",
       "      <td>Petrol</td>\n",
       "      <td>Manual</td>\n",
       "      <td>525000.0</td>\n",
       "      <td>Delhi</td>\n",
       "    </tr>\n",
       "    <tr>\n",
       "      <th>1</th>\n",
       "      <td>Hyundai</td>\n",
       "      <td>2013</td>\n",
       "      <td>91500</td>\n",
       "      <td>Diesel</td>\n",
       "      <td>Manual</td>\n",
       "      <td>595000.0</td>\n",
       "      <td>Delhi</td>\n",
       "    </tr>\n",
       "    <tr>\n",
       "      <th>2</th>\n",
       "      <td>Ford</td>\n",
       "      <td>2017</td>\n",
       "      <td>36000</td>\n",
       "      <td>Diesel</td>\n",
       "      <td>Manual</td>\n",
       "      <td>775000.0</td>\n",
       "      <td>Delhi</td>\n",
       "    </tr>\n",
       "    <tr>\n",
       "      <th>3</th>\n",
       "      <td>Honda</td>\n",
       "      <td>2015</td>\n",
       "      <td>90000</td>\n",
       "      <td>Diesel</td>\n",
       "      <td>Manual</td>\n",
       "      <td>400000.0</td>\n",
       "      <td>Delhi</td>\n",
       "    </tr>\n",
       "    <tr>\n",
       "      <th>4</th>\n",
       "      <td>Maruti Suzuki</td>\n",
       "      <td>2010</td>\n",
       "      <td>40000</td>\n",
       "      <td>Petrol</td>\n",
       "      <td>Manual</td>\n",
       "      <td>230000.0</td>\n",
       "      <td>Delhi</td>\n",
       "    </tr>\n",
       "  </tbody>\n",
       "</table>\n",
       "</div>"
      ],
      "text/plain": [
       "  Used Car Model Year of Manufacture  Kilometers Driven Fuel Type  \\\n",
       "0        Hyundai                2017               2200    Petrol   \n",
       "1        Hyundai                2013              91500    Diesel   \n",
       "2           Ford                2017              36000    Diesel   \n",
       "3          Honda                2015              90000    Diesel   \n",
       "4  Maruti Suzuki                2010              40000    Petrol   \n",
       "\n",
       "  Transmission Type  Used Car Price Location  \n",
       "0            Manual        525000.0    Delhi  \n",
       "1            Manual        595000.0    Delhi  \n",
       "2            Manual        775000.0    Delhi  \n",
       "3            Manual        400000.0    Delhi  \n",
       "4            Manual        230000.0    Delhi  "
      ]
     },
     "execution_count": 173,
     "metadata": {},
     "output_type": "execute_result"
    }
   ],
   "source": [
    "df.head()"
   ]
  },
  {
   "cell_type": "markdown",
   "id": "391bdf57",
   "metadata": {},
   "source": [
    "The target variable was object type, now we have converted it to proper float typedata"
   ]
  },
  {
   "cell_type": "code",
   "execution_count": 174,
   "id": "838bbc7e",
   "metadata": {},
   "outputs": [],
   "source": [
    "df[\"Year of Manufacture\"]=df[\"Year of Manufacture\"].apply(lambda x: int(x.strip()[0:4]) if x!='-' else 0)\n",
    "df[\"Year of Manufacture\"]=df[\"Year of Manufacture\"].apply(lambda x: x if x!=0 else df[\"Year of Manufacture\"].median())\n",
    "df[\"Year of Manufacture\"]=df[\"Year of Manufacture\"].astype(int)"
   ]
  },
  {
   "cell_type": "markdown",
   "id": "aa3b9cc9",
   "metadata": {},
   "source": [
    "To change year of Manufacture to numeric data, we have converted '-' to median values."
   ]
  },
  {
   "cell_type": "code",
   "execution_count": 175,
   "id": "e45af68d",
   "metadata": {
    "scrolled": true
   },
   "outputs": [],
   "source": [
    "df[\"Fuel Type\"]=df[\"Fuel Type\"].apply(lambda x: x if x!='-' else df[\"Fuel Type\"].mode()[0]) # replacing with common fuel type in india\n",
    "df[\"Transmission Type\"]=df[\"Transmission Type\"].apply(lambda x: x if x!='-' else df[\"Transmission Type\"].mode()[0]) # common transmission is manual\n",
    "df[\"Used Car Model\"]=df[\"Used Car Model\"].apply(lambda x: x if x!='-' else df[\"Used Car Model\"].mode()[0]) # common used car model\n",
    "df[\"Kilometers Driven\"]=df[\"Kilometers Driven\"].apply(lambda x: x if x!='-' else 'None')\n",
    "df[\"Used Car Price\"]=df[\"Used Car Price\"].apply(lambda x: x if x!='-' else df[\"Used Car Price\"].mean()) # average used car prices\n"
   ]
  },
  {
   "cell_type": "code",
   "execution_count": 176,
   "id": "dc4fbbdf",
   "metadata": {},
   "outputs": [
    {
     "data": {
      "text/html": [
       "<div>\n",
       "<style scoped>\n",
       "    .dataframe tbody tr th:only-of-type {\n",
       "        vertical-align: middle;\n",
       "    }\n",
       "\n",
       "    .dataframe tbody tr th {\n",
       "        vertical-align: top;\n",
       "    }\n",
       "\n",
       "    .dataframe thead th {\n",
       "        text-align: right;\n",
       "    }\n",
       "</style>\n",
       "<table border=\"1\" class=\"dataframe\">\n",
       "  <thead>\n",
       "    <tr style=\"text-align: right;\">\n",
       "      <th></th>\n",
       "      <th>Used Car Model</th>\n",
       "      <th>Year of Manufacture</th>\n",
       "      <th>Kilometers Driven</th>\n",
       "      <th>Fuel Type</th>\n",
       "      <th>Transmission Type</th>\n",
       "      <th>Used Car Price</th>\n",
       "      <th>Location</th>\n",
       "    </tr>\n",
       "  </thead>\n",
       "  <tbody>\n",
       "    <tr>\n",
       "      <th>0</th>\n",
       "      <td>Hyundai</td>\n",
       "      <td>2017</td>\n",
       "      <td>2200</td>\n",
       "      <td>Petrol</td>\n",
       "      <td>Manual</td>\n",
       "      <td>525000.0</td>\n",
       "      <td>Delhi</td>\n",
       "    </tr>\n",
       "    <tr>\n",
       "      <th>1</th>\n",
       "      <td>Hyundai</td>\n",
       "      <td>2013</td>\n",
       "      <td>91500</td>\n",
       "      <td>Diesel</td>\n",
       "      <td>Manual</td>\n",
       "      <td>595000.0</td>\n",
       "      <td>Delhi</td>\n",
       "    </tr>\n",
       "    <tr>\n",
       "      <th>2</th>\n",
       "      <td>Ford</td>\n",
       "      <td>2017</td>\n",
       "      <td>36000</td>\n",
       "      <td>Diesel</td>\n",
       "      <td>Manual</td>\n",
       "      <td>775000.0</td>\n",
       "      <td>Delhi</td>\n",
       "    </tr>\n",
       "    <tr>\n",
       "      <th>3</th>\n",
       "      <td>Honda</td>\n",
       "      <td>2015</td>\n",
       "      <td>90000</td>\n",
       "      <td>Diesel</td>\n",
       "      <td>Manual</td>\n",
       "      <td>400000.0</td>\n",
       "      <td>Delhi</td>\n",
       "    </tr>\n",
       "    <tr>\n",
       "      <th>4</th>\n",
       "      <td>Maruti Suzuki</td>\n",
       "      <td>2010</td>\n",
       "      <td>40000</td>\n",
       "      <td>Petrol</td>\n",
       "      <td>Manual</td>\n",
       "      <td>230000.0</td>\n",
       "      <td>Delhi</td>\n",
       "    </tr>\n",
       "    <tr>\n",
       "      <th>5</th>\n",
       "      <td>Maruti Suzuki</td>\n",
       "      <td>2020</td>\n",
       "      <td>19000</td>\n",
       "      <td>Petrol</td>\n",
       "      <td>Manual</td>\n",
       "      <td>455000.0</td>\n",
       "      <td>Delhi</td>\n",
       "    </tr>\n",
       "    <tr>\n",
       "      <th>6</th>\n",
       "      <td>BMW</td>\n",
       "      <td>2018</td>\n",
       "      <td>49000</td>\n",
       "      <td>Diesel</td>\n",
       "      <td>Automatic</td>\n",
       "      <td>5400000.0</td>\n",
       "      <td>Delhi</td>\n",
       "    </tr>\n",
       "    <tr>\n",
       "      <th>7</th>\n",
       "      <td>Audi</td>\n",
       "      <td>2016</td>\n",
       "      <td>36000</td>\n",
       "      <td>Diesel</td>\n",
       "      <td>Automatic</td>\n",
       "      <td>2400000.0</td>\n",
       "      <td>Delhi</td>\n",
       "    </tr>\n",
       "    <tr>\n",
       "      <th>8</th>\n",
       "      <td>Mahindra</td>\n",
       "      <td>2011</td>\n",
       "      <td>95000</td>\n",
       "      <td>Diesel</td>\n",
       "      <td>Manual</td>\n",
       "      <td>365000.0</td>\n",
       "      <td>Delhi</td>\n",
       "    </tr>\n",
       "    <tr>\n",
       "      <th>9</th>\n",
       "      <td>Ford</td>\n",
       "      <td>2016</td>\n",
       "      <td>68000</td>\n",
       "      <td>Diesel</td>\n",
       "      <td>Manual</td>\n",
       "      <td>620000.0</td>\n",
       "      <td>Delhi</td>\n",
       "    </tr>\n",
       "  </tbody>\n",
       "</table>\n",
       "</div>"
      ],
      "text/plain": [
       "  Used Car Model  Year of Manufacture  Kilometers Driven Fuel Type  \\\n",
       "0        Hyundai                 2017               2200    Petrol   \n",
       "1        Hyundai                 2013              91500    Diesel   \n",
       "2           Ford                 2017              36000    Diesel   \n",
       "3          Honda                 2015              90000    Diesel   \n",
       "4  Maruti Suzuki                 2010              40000    Petrol   \n",
       "5  Maruti Suzuki                 2020              19000    Petrol   \n",
       "6            BMW                 2018              49000    Diesel   \n",
       "7           Audi                 2016              36000    Diesel   \n",
       "8       Mahindra                 2011              95000    Diesel   \n",
       "9           Ford                 2016              68000    Diesel   \n",
       "\n",
       "  Transmission Type  Used Car Price Location  \n",
       "0            Manual        525000.0    Delhi  \n",
       "1            Manual        595000.0    Delhi  \n",
       "2            Manual        775000.0    Delhi  \n",
       "3            Manual        400000.0    Delhi  \n",
       "4            Manual        230000.0    Delhi  \n",
       "5            Manual        455000.0    Delhi  \n",
       "6         Automatic       5400000.0    Delhi  \n",
       "7         Automatic       2400000.0    Delhi  \n",
       "8            Manual        365000.0    Delhi  \n",
       "9            Manual        620000.0    Delhi  "
      ]
     },
     "execution_count": 176,
     "metadata": {},
     "output_type": "execute_result"
    }
   ],
   "source": [
    "df.head(10)"
   ]
  },
  {
   "cell_type": "markdown",
   "id": "eeec430c",
   "metadata": {},
   "source": [
    "We have ensured that all the remaining columns with \"-\" datas are replaced with values that made sense."
   ]
  },
  {
   "cell_type": "code",
   "execution_count": 177,
   "id": "9e258273",
   "metadata": {},
   "outputs": [
    {
     "data": {
      "text/plain": [
       "Used Car Model         1995\n",
       "Year of Manufacture      30\n",
       "Kilometers Driven       924\n",
       "Fuel Type                 5\n",
       "Transmission Type         2\n",
       "Used Car Price          723\n",
       "Location                  6\n",
       "dtype: int64"
      ]
     },
     "execution_count": 177,
     "metadata": {},
     "output_type": "execute_result"
    }
   ],
   "source": [
    "df.nunique()"
   ]
  },
  {
   "cell_type": "markdown",
   "id": "5a61e1e4",
   "metadata": {},
   "source": [
    "The unique values in columns have reduced considerably after filling it with corresponding values."
   ]
  },
  {
   "cell_type": "code",
   "execution_count": 178,
   "id": "03d8178e",
   "metadata": {},
   "outputs": [
    {
     "name": "stdout",
     "output_type": "stream",
     "text": [
      "<class 'pandas.core.frame.DataFrame'>\n",
      "RangeIndex: 8348 entries, 0 to 8347\n",
      "Data columns (total 7 columns):\n",
      " #   Column               Non-Null Count  Dtype  \n",
      "---  ------               --------------  -----  \n",
      " 0   Used Car Model       8348 non-null   object \n",
      " 1   Year of Manufacture  8348 non-null   int32  \n",
      " 2   Kilometers Driven    8348 non-null   int64  \n",
      " 3   Fuel Type            8348 non-null   object \n",
      " 4   Transmission Type    8348 non-null   object \n",
      " 5   Used Car Price       8348 non-null   float64\n",
      " 6   Location             8348 non-null   object \n",
      "dtypes: float64(1), int32(1), int64(1), object(4)\n",
      "memory usage: 424.0+ KB\n"
     ]
    }
   ],
   "source": [
    "df.info()"
   ]
  },
  {
   "cell_type": "code",
   "execution_count": 179,
   "id": "4615e93d",
   "metadata": {},
   "outputs": [
    {
     "data": {
      "text/plain": [
       "['Used Car Model', 'Fuel Type', 'Transmission Type', 'Location']"
      ]
     },
     "execution_count": 179,
     "metadata": {},
     "output_type": "execute_result"
    }
   ],
   "source": [
    "#cat_col\n",
    "cat_columns= [x for x in df.dtypes.index if df.dtypes[x] =='object']\n",
    "cat_columns"
   ]
  },
  {
   "cell_type": "code",
   "execution_count": 180,
   "id": "0f1168ff",
   "metadata": {},
   "outputs": [
    {
     "name": "stdout",
     "output_type": "stream",
     "text": [
      "Transmission Type\n",
      "Manual       7216\n",
      "Automatic    1132\n",
      "Name: Transmission Type, dtype: int64\n",
      "========================================================================================================================\n",
      "Fuel Type\n",
      "Diesel           4501\n",
      "Petrol           3697\n",
      "CNG & Hybrids      54\n",
      "CNG                54\n",
      "LPG                42\n",
      "Name: Fuel Type, dtype: int64\n",
      "========================================================================================================================\n",
      "Year of Manufacture\n",
      "2017    970\n",
      "2016    879\n",
      "2015    813\n",
      "2018    797\n",
      "2012    686\n",
      "2013    683\n",
      "2014    662\n",
      "2011    611\n",
      "2019    563\n",
      "2010    430\n",
      "2009    293\n",
      "2008    236\n",
      "2007    175\n",
      "2006    126\n",
      "2005     98\n",
      "2020     97\n",
      "2004     62\n",
      "2003     48\n",
      "2002     35\n",
      "1999     19\n",
      "2000     19\n",
      "2001     13\n",
      "1997     10\n",
      "1998      8\n",
      "2021      5\n",
      "1996      3\n",
      "1994      3\n",
      "1995      2\n",
      "1983      1\n",
      "1991      1\n",
      "Name: Year of Manufacture, dtype: int64\n",
      "========================================================================================================================\n"
     ]
    }
   ],
   "source": [
    "#To get the unique value info of necessary columns\n",
    "nes_col = [\"Transmission Type\", \"Fuel Type\", \"Year of Manufacture\"]\n",
    "for col in nes_col:\n",
    "    print(col)\n",
    "    print(df[col].value_counts())\n",
    "    print(\"=\"*120)"
   ]
  },
  {
   "cell_type": "code",
   "execution_count": 181,
   "id": "65112018",
   "metadata": {},
   "outputs": [
    {
     "data": {
      "text/plain": [
       "Used Car Model         0\n",
       "Year of Manufacture    0\n",
       "Kilometers Driven      0\n",
       "Fuel Type              0\n",
       "Transmission Type      0\n",
       "Used Car Price         0\n",
       "Location               0\n",
       "dtype: int64"
      ]
     },
     "execution_count": 181,
     "metadata": {},
     "output_type": "execute_result"
    }
   ],
   "source": [
    "#Check for null values\n",
    "df.isnull().sum()\n"
   ]
  },
  {
   "cell_type": "code",
   "execution_count": 182,
   "id": "662c907b",
   "metadata": {},
   "outputs": [
    {
     "data": {
      "text/plain": [
       "<AxesSubplot:>"
      ]
     },
     "execution_count": 182,
     "metadata": {},
     "output_type": "execute_result"
    },
    {
     "data": {
      "image/png": "[encoded data removed]",
      "text/plain": [
       "<Figure size 720x360 with 2 Axes>"
      ]
     },
     "metadata": {
      "needs_background": "light"
     },
     "output_type": "display_data"
    }
   ],
   "source": [
    "plt.figure(figsize=(10,5))\n",
    "sns.heatmap(df.isnull())"
   ]
  },
  {
   "cell_type": "markdown",
   "id": "f57d5381",
   "metadata": {},
   "source": [
    "# Visualization"
   ]
  },
  {
   "cell_type": "markdown",
   "id": "0b2fcfad",
   "metadata": {},
   "source": [
    "Univariate Analysis"
   ]
  },
  {
   "cell_type": "code",
   "execution_count": 183,
   "id": "216a5cd3",
   "metadata": {},
   "outputs": [
    {
     "data": {
      "image/png": "[encoded data removed]",
      "text/plain": [
       "<Figure size 1080x504 with 1 Axes>"
      ]
     },
     "metadata": {
      "needs_background": "light"
     },
     "output_type": "display_data"
    }
   ],
   "source": [
    "x = 'Fuel Type'\n",
    "k=0\n",
    "plt.figure(figsize=[15,7])\n",
    "axes = sns.countplot(df[x])\n",
    "for i in axes.patches:\n",
    "    ht = i.get_height()\n",
    "    ln = len(df[x])\n",
    "    st = f\"({round(ht*100/ln,2)}%)\"\n",
    "    plt.text(k, ht/2, st, ha='center', fontweight='bold')\n",
    "    k += 1\n",
    "plt.ylim(0,5000)\n",
    "plt.title('Count Plot for {x} column')\n",
    "plt.ylabel('total number of rows covered')\n",
    "plt.show()"
   ]
  },
  {
   "cell_type": "markdown",
   "id": "5a61fd8b",
   "metadata": {},
   "source": [
    "Most cars use diesel engine and then petrol variants. Most of the used cars run either on petrol or diesel. We have a minimal amount of cars that run on LPG, CNG and their hybrid versions."
   ]
  },
  {
   "cell_type": "code",
   "execution_count": 184,
   "id": "755de60b",
   "metadata": {},
   "outputs": [
    {
     "data": {
      "image/png": "[encoded data removed]",
      "text/plain": [
       "<Figure size 360x504 with 1 Axes>"
      ]
     },
     "metadata": {
      "needs_background": "light"
     },
     "output_type": "display_data"
    }
   ],
   "source": [
    "x = 'Transmission Type'\n",
    "k=0\n",
    "plt.figure(figsize=[5,7])\n",
    "axes = sns.countplot(df[x])\n",
    "for i in axes.patches:\n",
    "    ht = i.get_height()\n",
    "    ln = len(df[x])\n",
    "    st = f\"({round(ht*100/ln,2)}%)\"\n",
    "    plt.text(k, ht/2, st, ha='center', fontweight='bold')\n",
    "    k += 1\n",
    "plt.ylim(0,10000)\n",
    "plt.title(f'Count Plot for {x} column\\n')\n",
    "plt.ylabel(f'total number of rows covered\\n')\n",
    "plt.show()\n"
   ]
  },
  {
   "cell_type": "markdown",
   "id": "568fd840",
   "metadata": {},
   "source": [
    "The  manual used cars are more in  number as compared to the automatic gear cars and the difference is huge."
   ]
  },
  {
   "cell_type": "code",
   "execution_count": 185,
   "id": "fcc00c04",
   "metadata": {
    "scrolled": false
   },
   "outputs": [
    {
     "data": {
      "image/png": "[encoded data removed]",
      "text/plain": [
       "<Figure size 1080x504 with 1 Axes>"
      ]
     },
     "metadata": {
      "needs_background": "light"
     },
     "output_type": "display_data"
    },
    {
     "data": {
      "image/png": "[encoded data removed]",
      "text/plain": [
       "<Figure size 720x360 with 1 Axes>"
      ]
     },
     "metadata": {
      "needs_background": "light"
     },
     "output_type": "display_data"
    },
    {
     "data": {
      "image/png": "[encoded data removed]",
      "text/plain": [
       "<Figure size 720x360 with 1 Axes>"
      ]
     },
     "metadata": {
      "needs_background": "light"
     },
     "output_type": "display_data"
    }
   ],
   "source": [
    "y = 'Used Car Price'\n",
    "\n",
    "x = 'Year of Manufacture'\n",
    "plt.figure(figsize=[15,7])\n",
    "sns.barplot(x,y,data=df)\n",
    "plt.title(\"Barplot for {x} column vs {y} column\")\n",
    "plt.show()\n",
    "\n",
    "x = 'Kilometers Driven'\n",
    "plt.figure(figsize=[10,5])\n",
    "sns.scatterplot(x,y,data=df)\n",
    "plt.title(\"Barplot for {x} column vs {y} column\")\n",
    "plt.show()\n",
    "\n",
    "x = 'Transmission Type'\n",
    "plt.figure(figsize=[10,5])\n",
    "sns.barplot(x,y,data=df)\n",
    "plt.title(\"Barplot for {x} column vs {y} column\")\n",
    "plt.show()"
   ]
  },
  {
   "cell_type": "markdown",
   "id": "d34929c7",
   "metadata": {},
   "source": [
    "Observation:\n",
    "    \n",
    "    With Year Of Manufacture, The cars that are manufactured after 2015 has considerably high \n",
    "    price.\n",
    "    \n",
    "    With Km Driven, the cars that run less km seems to have high price comparitively. This doesny suit to high class models like BMW, Audi...\n",
    "    \n",
    "    With Transmission type, automatic cars have high price than manually driven cars."
   ]
  },
  {
   "cell_type": "code",
   "execution_count": 186,
   "id": "50e1a8b6",
   "metadata": {},
   "outputs": [
    {
     "data": {
      "image/png": "[encoded data removed]",
      "text/plain": [
       "<Figure size 1080x504 with 1 Axes>"
      ]
     },
     "metadata": {
      "needs_background": "light"
     },
     "output_type": "display_data"
    }
   ],
   "source": [
    "plt.figure(figsize=[15,7])\n",
    "df['Year of Manufacture'].value_counts().plot(kind='bar')\n",
    "plt.xlabel(\"Mnf Year\")\n",
    "plt.ylabel(\"No of Cars\")\n",
    "plt.show()"
   ]
  },
  {
   "cell_type": "markdown",
   "id": "bed27a2c",
   "metadata": {},
   "source": [
    "The number of cars being purchased each year has increased a lot after 2007. Most people started to rely on used cars with secured transfer."
   ]
  },
  {
   "cell_type": "code",
   "execution_count": 187,
   "id": "a8ff5365",
   "metadata": {},
   "outputs": [
    {
     "data": {
      "image/png": "[encoded data removed]",
      "text/plain": [
       "<Figure size 1440x360 with 1 Axes>"
      ]
     },
     "metadata": {
      "needs_background": "light"
     },
     "output_type": "display_data"
    }
   ],
   "source": [
    "plt.figure(figsize=(20,5))\n",
    "sns.barplot(x = \"Location\",y = \"Used Car Price\", data = df, palette = \"rainbow\")\n",
    "plt.xticks(rotation=45)\n",
    "plt.show()"
   ]
  },
  {
   "cell_type": "markdown",
   "id": "204b9fd7",
   "metadata": {},
   "source": [
    "Delhi and Hyderabad cars have relatively high price."
   ]
  },
  {
   "cell_type": "markdown",
   "id": "c613bd73",
   "metadata": {},
   "source": [
    "# Target Variable"
   ]
  },
  {
   "cell_type": "code",
   "execution_count": 188,
   "id": "3dae21e4",
   "metadata": {},
   "outputs": [
    {
     "data": {
      "text/plain": [
       "<AxesSubplot:xlabel='Used Car Price', ylabel='Density'>"
      ]
     },
     "execution_count": 188,
     "metadata": {},
     "output_type": "execute_result"
    },
    {
     "data": {
      "image/png": "[encoded data removed]",
      "text/plain": [
       "<Figure size 432x288 with 1 Axes>"
      ]
     },
     "metadata": {
      "needs_background": "light"
     },
     "output_type": "display_data"
    }
   ],
   "source": [
    "sns.distplot(df['Used Car Price'])"
   ]
  },
  {
   "cell_type": "code",
   "execution_count": 189,
   "id": "f9b41e56",
   "metadata": {},
   "outputs": [
    {
     "data": {
      "image/png": "[encoded data removed]",
      "text/plain": [
       "<Figure size 854.5x756 with 12 Axes>"
      ]
     },
     "metadata": {
      "needs_background": "light"
     },
     "output_type": "display_data"
    }
   ],
   "source": [
    "sns.pairplot(df, hue='Transmission Type', diag_kind=\"kde\", kind=\"scatter\", height=3.5)\n",
    "plt.title('Transmission Type Pair plot')\n",
    "plt.show()"
   ]
  },
  {
   "cell_type": "code",
   "execution_count": 190,
   "id": "671e4119",
   "metadata": {},
   "outputs": [
    {
     "data": {
      "image/png": "[encoded data removed]",
      "text/plain": [
       "<Figure size 866.5x756 with 12 Axes>"
      ]
     },
     "metadata": {
      "needs_background": "light"
     },
     "output_type": "display_data"
    }
   ],
   "source": [
    "sns.pairplot(df, hue='Fuel Type', diag_kind=\"kde\", kind=\"scatter\", height=3.5)\n",
    "plt.title('Fuel Type Pair Plot')\n",
    "plt.show()"
   ]
  },
  {
   "cell_type": "markdown",
   "id": "bcc02619",
   "metadata": {},
   "source": [
    "# Encode Categorical Columns"
   ]
  },
  {
   "cell_type": "code",
   "execution_count": 191,
   "id": "e281505f",
   "metadata": {},
   "outputs": [],
   "source": [
    "LE= LabelEncoder()"
   ]
  },
  {
   "cell_type": "code",
   "execution_count": 192,
   "id": "92bd665a",
   "metadata": {},
   "outputs": [],
   "source": [
    "for i in cat_columns:\n",
    "    df[i]= LE.fit_transform(df[i])"
   ]
  },
  {
   "cell_type": "code",
   "execution_count": 193,
   "id": "90c52e4b",
   "metadata": {},
   "outputs": [
    {
     "data": {
      "image/png": "[encoded data removed]",
      "text/plain": [
       "<Figure size 1440x1440 with 9 Axes>"
      ]
     },
     "metadata": {
      "needs_background": "light"
     },
     "output_type": "display_data"
    }
   ],
   "source": [
    "plt.style.use('seaborn-bright')\n",
    "df.hist(figsize=(20,20))\n",
    "plt.show()"
   ]
  },
  {
   "cell_type": "markdown",
   "id": "f1acc8c9",
   "metadata": {},
   "source": [
    "With the histplot, we can understand the distribution of columns in our dataset."
   ]
  },
  {
   "cell_type": "code",
   "execution_count": 194,
   "id": "a294f214",
   "metadata": {},
   "outputs": [
    {
     "data": {
      "text/html": [
       "<div>\n",
       "<style scoped>\n",
       "    .dataframe tbody tr th:only-of-type {\n",
       "        vertical-align: middle;\n",
       "    }\n",
       "\n",
       "    .dataframe tbody tr th {\n",
       "        vertical-align: top;\n",
       "    }\n",
       "\n",
       "    .dataframe thead th {\n",
       "        text-align: right;\n",
       "    }\n",
       "</style>\n",
       "<table border=\"1\" class=\"dataframe\">\n",
       "  <thead>\n",
       "    <tr style=\"text-align: right;\">\n",
       "      <th></th>\n",
       "      <th>Used Car Model</th>\n",
       "      <th>Year of Manufacture</th>\n",
       "      <th>Kilometers Driven</th>\n",
       "      <th>Fuel Type</th>\n",
       "      <th>Transmission Type</th>\n",
       "      <th>Used Car Price</th>\n",
       "      <th>Location</th>\n",
       "    </tr>\n",
       "  </thead>\n",
       "  <tbody>\n",
       "    <tr>\n",
       "      <th>count</th>\n",
       "      <td>8348.000000</td>\n",
       "      <td>8348.000000</td>\n",
       "      <td>8.348000e+03</td>\n",
       "      <td>8348.000000</td>\n",
       "      <td>8348.000000</td>\n",
       "      <td>8.348000e+03</td>\n",
       "      <td>8348.000000</td>\n",
       "    </tr>\n",
       "    <tr>\n",
       "      <th>mean</th>\n",
       "      <td>1014.285458</td>\n",
       "      <td>2013.725084</td>\n",
       "      <td>6.966386e+04</td>\n",
       "      <td>2.871346</td>\n",
       "      <td>0.864399</td>\n",
       "      <td>6.496622e+05</td>\n",
       "      <td>2.353019</td>\n",
       "    </tr>\n",
       "    <tr>\n",
       "      <th>std</th>\n",
       "      <td>536.701323</td>\n",
       "      <td>4.032961</td>\n",
       "      <td>5.849813e+04</td>\n",
       "      <td>1.024548</td>\n",
       "      <td>0.342385</td>\n",
       "      <td>1.063936e+06</td>\n",
       "      <td>1.697031</td>\n",
       "    </tr>\n",
       "    <tr>\n",
       "      <th>min</th>\n",
       "      <td>0.000000</td>\n",
       "      <td>1983.000000</td>\n",
       "      <td>0.000000e+00</td>\n",
       "      <td>0.000000</td>\n",
       "      <td>0.000000</td>\n",
       "      <td>0.000000e+00</td>\n",
       "      <td>0.000000</td>\n",
       "    </tr>\n",
       "    <tr>\n",
       "      <th>25%</th>\n",
       "      <td>560.000000</td>\n",
       "      <td>2011.000000</td>\n",
       "      <td>3.500000e+04</td>\n",
       "      <td>2.000000</td>\n",
       "      <td>1.000000</td>\n",
       "      <td>2.500000e+05</td>\n",
       "      <td>1.000000</td>\n",
       "    </tr>\n",
       "    <tr>\n",
       "      <th>50%</th>\n",
       "      <td>1071.000000</td>\n",
       "      <td>2014.000000</td>\n",
       "      <td>6.000000e+04</td>\n",
       "      <td>2.000000</td>\n",
       "      <td>1.000000</td>\n",
       "      <td>4.500000e+05</td>\n",
       "      <td>2.000000</td>\n",
       "    </tr>\n",
       "    <tr>\n",
       "      <th>75%</th>\n",
       "      <td>1370.000000</td>\n",
       "      <td>2017.000000</td>\n",
       "      <td>9.000000e+04</td>\n",
       "      <td>4.000000</td>\n",
       "      <td>1.000000</td>\n",
       "      <td>6.700000e+05</td>\n",
       "      <td>4.000000</td>\n",
       "    </tr>\n",
       "    <tr>\n",
       "      <th>max</th>\n",
       "      <td>1994.000000</td>\n",
       "      <td>2021.000000</td>\n",
       "      <td>2.360457e+06</td>\n",
       "      <td>4.000000</td>\n",
       "      <td>1.000000</td>\n",
       "      <td>6.300000e+07</td>\n",
       "      <td>5.000000</td>\n",
       "    </tr>\n",
       "  </tbody>\n",
       "</table>\n",
       "</div>"
      ],
      "text/plain": [
       "       Used Car Model  Year of Manufacture  Kilometers Driven    Fuel Type  \\\n",
       "count     8348.000000          8348.000000       8.348000e+03  8348.000000   \n",
       "mean      1014.285458          2013.725084       6.966386e+04     2.871346   \n",
       "std        536.701323             4.032961       5.849813e+04     1.024548   \n",
       "min          0.000000          1983.000000       0.000000e+00     0.000000   \n",
       "25%        560.000000          2011.000000       3.500000e+04     2.000000   \n",
       "50%       1071.000000          2014.000000       6.000000e+04     2.000000   \n",
       "75%       1370.000000          2017.000000       9.000000e+04     4.000000   \n",
       "max       1994.000000          2021.000000       2.360457e+06     4.000000   \n",
       "\n",
       "       Transmission Type  Used Car Price     Location  \n",
       "count        8348.000000    8.348000e+03  8348.000000  \n",
       "mean            0.864399    6.496622e+05     2.353019  \n",
       "std             0.342385    1.063936e+06     1.697031  \n",
       "min             0.000000    0.000000e+00     0.000000  \n",
       "25%             1.000000    2.500000e+05     1.000000  \n",
       "50%             1.000000    4.500000e+05     2.000000  \n",
       "75%             1.000000    6.700000e+05     4.000000  \n",
       "max             1.000000    6.300000e+07     5.000000  "
      ]
     },
     "execution_count": 194,
     "metadata": {},
     "output_type": "execute_result"
    }
   ],
   "source": [
    "df.describe()"
   ]
  },
  {
   "cell_type": "markdown",
   "id": "538d1b69",
   "metadata": {},
   "source": [
    "The dataset seems to have outliers and skewness present in it. We shall handle it with proper processes"
   ]
  },
  {
   "cell_type": "markdown",
   "id": "8dce607c",
   "metadata": {},
   "source": [
    "# To find Correlation"
   ]
  },
  {
   "cell_type": "code",
   "execution_count": 195,
   "id": "086a7d13",
   "metadata": {},
   "outputs": [
    {
     "data": {
      "text/html": [
       "<div>\n",
       "<style scoped>\n",
       "    .dataframe tbody tr th:only-of-type {\n",
       "        vertical-align: middle;\n",
       "    }\n",
       "\n",
       "    .dataframe tbody tr th {\n",
       "        vertical-align: top;\n",
       "    }\n",
       "\n",
       "    .dataframe thead th {\n",
       "        text-align: right;\n",
       "    }\n",
       "</style>\n",
       "<table border=\"1\" class=\"dataframe\">\n",
       "  <thead>\n",
       "    <tr style=\"text-align: right;\">\n",
       "      <th></th>\n",
       "      <th>Used Car Model</th>\n",
       "      <th>Year of Manufacture</th>\n",
       "      <th>Kilometers Driven</th>\n",
       "      <th>Fuel Type</th>\n",
       "      <th>Transmission Type</th>\n",
       "      <th>Used Car Price</th>\n",
       "      <th>Location</th>\n",
       "    </tr>\n",
       "  </thead>\n",
       "  <tbody>\n",
       "    <tr>\n",
       "      <th>Used Car Model</th>\n",
       "      <td>1.000000</td>\n",
       "      <td>-0.023692</td>\n",
       "      <td>0.091993</td>\n",
       "      <td>-0.092895</td>\n",
       "      <td>0.050159</td>\n",
       "      <td>-0.066101</td>\n",
       "      <td>-0.004205</td>\n",
       "    </tr>\n",
       "    <tr>\n",
       "      <th>Year of Manufacture</th>\n",
       "      <td>-0.023692</td>\n",
       "      <td>1.000000</td>\n",
       "      <td>-0.395833</td>\n",
       "      <td>-0.053734</td>\n",
       "      <td>-0.239915</td>\n",
       "      <td>0.315987</td>\n",
       "      <td>-0.013616</td>\n",
       "    </tr>\n",
       "    <tr>\n",
       "      <th>Kilometers Driven</th>\n",
       "      <td>0.091993</td>\n",
       "      <td>-0.395833</td>\n",
       "      <td>1.000000</td>\n",
       "      <td>-0.244240</td>\n",
       "      <td>0.191012</td>\n",
       "      <td>-0.169436</td>\n",
       "      <td>0.013132</td>\n",
       "    </tr>\n",
       "    <tr>\n",
       "      <th>Fuel Type</th>\n",
       "      <td>-0.092895</td>\n",
       "      <td>-0.053734</td>\n",
       "      <td>-0.244240</td>\n",
       "      <td>1.000000</td>\n",
       "      <td>-0.033687</td>\n",
       "      <td>-0.145213</td>\n",
       "      <td>-0.002057</td>\n",
       "    </tr>\n",
       "    <tr>\n",
       "      <th>Transmission Type</th>\n",
       "      <td>0.050159</td>\n",
       "      <td>-0.239915</td>\n",
       "      <td>0.191012</td>\n",
       "      <td>-0.033687</td>\n",
       "      <td>1.000000</td>\n",
       "      <td>-0.452446</td>\n",
       "      <td>0.011880</td>\n",
       "    </tr>\n",
       "    <tr>\n",
       "      <th>Used Car Price</th>\n",
       "      <td>-0.066101</td>\n",
       "      <td>0.315987</td>\n",
       "      <td>-0.169436</td>\n",
       "      <td>-0.145213</td>\n",
       "      <td>-0.452446</td>\n",
       "      <td>1.000000</td>\n",
       "      <td>-0.004531</td>\n",
       "    </tr>\n",
       "    <tr>\n",
       "      <th>Location</th>\n",
       "      <td>-0.004205</td>\n",
       "      <td>-0.013616</td>\n",
       "      <td>0.013132</td>\n",
       "      <td>-0.002057</td>\n",
       "      <td>0.011880</td>\n",
       "      <td>-0.004531</td>\n",
       "      <td>1.000000</td>\n",
       "    </tr>\n",
       "  </tbody>\n",
       "</table>\n",
       "</div>"
      ],
      "text/plain": [
       "                     Used Car Model  Year of Manufacture  Kilometers Driven  \\\n",
       "Used Car Model             1.000000            -0.023692           0.091993   \n",
       "Year of Manufacture       -0.023692             1.000000          -0.395833   \n",
       "Kilometers Driven          0.091993            -0.395833           1.000000   \n",
       "Fuel Type                 -0.092895            -0.053734          -0.244240   \n",
       "Transmission Type          0.050159            -0.239915           0.191012   \n",
       "Used Car Price            -0.066101             0.315987          -0.169436   \n",
       "Location                  -0.004205            -0.013616           0.013132   \n",
       "\n",
       "                     Fuel Type  Transmission Type  Used Car Price  Location  \n",
       "Used Car Model       -0.092895           0.050159       -0.066101 -0.004205  \n",
       "Year of Manufacture  -0.053734          -0.239915        0.315987 -0.013616  \n",
       "Kilometers Driven    -0.244240           0.191012       -0.169436  0.013132  \n",
       "Fuel Type             1.000000          -0.033687       -0.145213 -0.002057  \n",
       "Transmission Type    -0.033687           1.000000       -0.452446  0.011880  \n",
       "Used Car Price       -0.145213          -0.452446        1.000000 -0.004531  \n",
       "Location             -0.002057           0.011880       -0.004531  1.000000  "
      ]
     },
     "execution_count": 195,
     "metadata": {},
     "output_type": "execute_result"
    }
   ],
   "source": [
    "df.corr()"
   ]
  },
  {
   "cell_type": "code",
   "execution_count": 196,
   "id": "8a0bcd3a",
   "metadata": {},
   "outputs": [
    {
     "data": {
      "text/plain": [
       "<AxesSubplot:>"
      ]
     },
     "execution_count": 196,
     "metadata": {},
     "output_type": "execute_result"
    },
    {
     "data": {
      "image/png": "[encoded data removed]",
      "text/plain": [
       "<Figure size 1080x504 with 2 Axes>"
      ]
     },
     "metadata": {
      "needs_background": "light"
     },
     "output_type": "display_data"
    }
   ],
   "source": [
    "plt.figure(figsize=(15,7))\n",
    "sns.heatmap(df.corr(), annot=True)"
   ]
  },
  {
   "cell_type": "markdown",
   "id": "a8550771",
   "metadata": {},
   "source": [
    "year of Manufacture has positive correlation with target. "
   ]
  },
  {
   "cell_type": "markdown",
   "id": "38aa9881",
   "metadata": {},
   "source": [
    "# Check For Skewness"
   ]
  },
  {
   "cell_type": "code",
   "execution_count": 197,
   "id": "d188f063",
   "metadata": {},
   "outputs": [
    {
     "data": {
      "text/plain": [
       "Transmission Type      -2.129099\n",
       "Year of Manufacture    -1.011707\n",
       "Used Car Model         -0.064684\n",
       "Fuel Type               0.078609\n",
       "Location                0.100319\n",
       "Kilometers Driven      10.864394\n",
       "Used Car Price         25.960253\n",
       "dtype: float64"
      ]
     },
     "execution_count": 197,
     "metadata": {},
     "output_type": "execute_result"
    }
   ],
   "source": [
    "df.skew().sort_values(ascending=True)"
   ]
  },
  {
   "cell_type": "code",
   "execution_count": 198,
   "id": "84976679",
   "metadata": {},
   "outputs": [
    {
     "data": {
      "image/png": "[encoded data removed]",
      "text/plain": [
       "<Figure size 1080x1080 with 7 Axes>"
      ]
     },
     "metadata": {
      "needs_background": "light"
     },
     "output_type": "display_data"
    }
   ],
   "source": [
    "plt.figure(figsize=(15,15))\n",
    "for i in range (0, len(df.columns)):\n",
    "    plt.subplot(6,4,i+1)         \n",
    "    sns.kdeplot(df[df.columns[i]], color = \"purple\")\n",
    "    plt.tight_layout()"
   ]
  },
  {
   "cell_type": "markdown",
   "id": "e3a69ee4",
   "metadata": {},
   "source": [
    "We see that our target column is the one showing the highest skewness and it won't be much of a concern to us. However there is slight skewness in our feature columns that will need to be treated."
   ]
  },
  {
   "cell_type": "code",
   "execution_count": 199,
   "id": "4e437ea4",
   "metadata": {},
   "outputs": [],
   "source": [
    "df1=df.drop('Used Car Price', axis=1)"
   ]
  },
  {
   "cell_type": "code",
   "execution_count": 200,
   "id": "e3926ae1",
   "metadata": {},
   "outputs": [],
   "source": [
    "from sklearn.preprocessing import power_transform\n",
    "df1_new= power_transform(df1)"
   ]
  },
  {
   "cell_type": "code",
   "execution_count": 201,
   "id": "1ba93744",
   "metadata": {},
   "outputs": [],
   "source": [
    "df1['Used Car Price']= df['Used Car Price']"
   ]
  },
  {
   "cell_type": "markdown",
   "id": "cec60a0f",
   "metadata": {},
   "source": [
    "# Check For Outliers"
   ]
  },
  {
   "cell_type": "code",
   "execution_count": 202,
   "id": "4d99d890",
   "metadata": {},
   "outputs": [
    {
     "data": {
      "image/png": "[encoded data removed]",
      "text/plain": [
       "<Figure size 1440x720 with 1 Axes>"
      ]
     },
     "metadata": {
      "needs_background": "light"
     },
     "output_type": "display_data"
    }
   ],
   "source": [
    "df1.boxplot(figsize=(20,10))\n",
    "plt.subplots_adjust(bottom=0.25)\n",
    "plt.show()"
   ]
  },
  {
   "cell_type": "markdown",
   "id": "f381b059",
   "metadata": {},
   "source": [
    "There are outliers present in certain columns, so we shall handle it with zscore"
   ]
  },
  {
   "cell_type": "code",
   "execution_count": 204,
   "id": "80a0826b",
   "metadata": {},
   "outputs": [
    {
     "data": {
      "text/plain": [
       "array([[1.06263874e+00, 8.12086299e-01, 1.15333436e+00, ...,\n",
       "        3.96072739e-01, 2.08033772e-01, 1.17177850e-01],\n",
       "       [1.06263874e+00, 1.79800226e-01, 3.73301646e-01, ...,\n",
       "        3.96072739e-01, 2.08033772e-01, 5.13804689e-02],\n",
       "       [1.55828859e+00, 8.12086299e-01, 5.75503489e-01, ...,\n",
       "        3.96072739e-01, 2.08033772e-01, 1.17812796e-01],\n",
       "       ...,\n",
       "       [5.31906073e-04, 1.06005793e+00, 7.57952376e-01, ...,\n",
       "        3.96072739e-01, 1.38663298e+00, 3.17473037e-04],\n",
       "       [4.65304424e-01, 6.75743488e-01, 8.60525904e-01, ...,\n",
       "        3.96072739e-01, 1.38663298e+00, 2.06474295e-01],\n",
       "       [4.99908452e-01, 1.79800226e-01, 1.27082002e+00, ...,\n",
       "        3.96072739e-01, 1.38663298e+00, 2.72271675e-01]])"
      ]
     },
     "execution_count": 204,
     "metadata": {},
     "output_type": "execute_result"
    }
   ],
   "source": [
    "from scipy.stats import zscore\n",
    "z=np.abs(zscore(df1))\n",
    "z"
   ]
  },
  {
   "cell_type": "code",
   "execution_count": 205,
   "id": "d531497a",
   "metadata": {},
   "outputs": [
    {
     "name": "stdout",
     "output_type": "stream",
     "text": [
      "(array([   6,   13,   46,   53,  166,  173,  299,  311,  312,  321,  328,\n",
      "        329,  335,  355,  377,  406,  413,  539,  551,  552,  568,  569,\n",
      "        575,  595,  617,  641,  654,  682,  703,  705,  733,  758,  766,\n",
      "        846,  899,  911,  912,  928,  929,  935,  955,  977, 1007, 1131,\n",
      "       1132, 1134, 1135, 1136, 1139, 1148, 1170, 1177, 1186, 1288, 1316,\n",
      "       1371, 1384, 1385, 1401, 1410, 1423, 1424, 1461, 1647, 1660, 1661,\n",
      "       1774, 1808, 1886, 1998, 1999, 2025, 2045, 2071, 2078, 2091, 2092,\n",
      "       2097, 2110, 2111, 2116, 2129, 2130, 2135, 2148, 2149, 2216, 2237,\n",
      "       2379, 2432, 2468, 2474, 2561, 2562, 2564, 2629, 2710, 2723, 2724,\n",
      "       2775, 2810, 2815, 2857, 2858, 2860, 2871, 2872, 2882, 2972, 2997,\n",
      "       3006, 3036, 3094, 3140, 3145, 3272, 3327, 3340, 3402, 3424, 3579,\n",
      "       3584, 3631, 3644, 3645, 3664, 3677, 3678, 3726, 3805, 3818, 3829,\n",
      "       3886, 3938, 3977, 3999, 4046, 4079, 4092, 4093, 4097, 4120, 4236,\n",
      "       4237, 4239, 4240, 4248, 4310, 4378, 4409, 4422, 4423, 4486, 4508,\n",
      "       4517, 4530, 4531, 4583, 4584, 4641, 4832, 4845, 4846, 4852, 4873,\n",
      "       4874, 4890, 4919, 4922, 5033, 5101, 5108, 5112, 5117, 5216, 5229,\n",
      "       5230, 5235, 5248, 5249, 5253, 5256, 5269, 5270, 5285, 5287, 5305,\n",
      "       5321, 5334, 5335, 5359, 5372, 5415, 5428, 5429, 5542, 5570, 5630,\n",
      "       5653, 5654, 5664, 5671, 5708, 5712, 5753, 5766, 5816, 5829, 5830,\n",
      "       5861, 5933, 5950, 5951, 5952, 5998, 6057, 6060, 6060, 6080, 6084,\n",
      "       6097, 6098, 6106, 6189, 6245, 6246, 6248, 6252, 6253, 6256, 6257,\n",
      "       6258, 6259, 6322, 6323, 6349, 6385, 6411, 6422, 6451, 6467, 6610,\n",
      "       6615, 6628, 6629, 6681, 6683, 6702, 6714, 6726, 6746, 6813, 6871,\n",
      "       6965, 6992, 7164, 7167, 7180, 7181, 7200, 7250, 7258, 7320, 7387,\n",
      "       7418, 7436, 7521, 7555, 7568, 7569, 7574, 7587, 7588, 7639, 7673,\n",
      "       7690, 7703, 7704, 7715, 7730, 7755, 7776, 7782, 7919, 7920, 7933,\n",
      "       7960, 7973, 7974, 8042, 8064, 8102, 8116, 8218, 8340, 8343],\n",
      "      dtype=int64), array([6, 6, 6, 6, 6, 6, 6, 1, 2, 6, 2, 2, 6, 2, 1, 6, 6, 6, 1, 2, 2, 2,\n",
      "       6, 2, 1, 6, 6, 6, 1, 1, 2, 1, 6, 6, 6, 1, 2, 2, 2, 6, 2, 1, 1, 6,\n",
      "       6, 6, 6, 6, 6, 6, 6, 1, 1, 6, 1, 6, 6, 6, 2, 6, 6, 6, 2, 6, 6, 6,\n",
      "       1, 1, 2, 2, 1, 1, 1, 6, 6, 6, 6, 6, 6, 6, 6, 6, 6, 6, 6, 6, 1, 2,\n",
      "       1, 1, 1, 1, 6, 6, 6, 2, 6, 6, 6, 1, 2, 1, 6, 6, 6, 6, 6, 1, 1, 2,\n",
      "       2, 2, 2, 1, 1, 2, 1, 1, 2, 1, 2, 2, 6, 6, 6, 6, 6, 6, 2, 2, 1, 6,\n",
      "       1, 6, 2, 2, 1, 6, 6, 6, 1, 2, 6, 6, 6, 6, 6, 1, 1, 6, 6, 6, 2, 2,\n",
      "       6, 6, 6, 2, 2, 2, 6, 6, 6, 2, 2, 2, 1, 1, 1, 1, 6, 1, 1, 2, 6, 6,\n",
      "       6, 6, 6, 6, 1, 6, 6, 6, 1, 2, 1, 6, 6, 6, 1, 1, 6, 6, 6, 1, 2, 2,\n",
      "       2, 2, 2, 6, 2, 1, 6, 6, 6, 6, 6, 2, 1, 6, 6, 6, 2, 2, 1, 2, 1, 6,\n",
      "       6, 6, 2, 2, 6, 6, 6, 6, 6, 6, 6, 6, 6, 1, 2, 1, 1, 1, 2, 1, 2, 1,\n",
      "       6, 6, 6, 1, 2, 1, 1, 1, 1, 2, 2, 1, 1, 1, 6, 6, 6, 2, 2, 6, 1, 1,\n",
      "       2, 1, 1, 6, 6, 6, 6, 6, 6, 1, 2, 6, 6, 6, 2, 1, 2, 1, 2, 1, 1, 1,\n",
      "       6, 6, 6, 2, 2, 2, 2, 1, 6, 6], dtype=int64))\n"
     ]
    }
   ],
   "source": [
    "# threshold for zscore is 3........., zscore greater than 3 is outliers\n",
    "threshold=3\n",
    "print(np.where(z>3))"
   ]
  },
  {
   "cell_type": "code",
   "execution_count": 210,
   "id": "9eb572bb",
   "metadata": {},
   "outputs": [],
   "source": [
    "df_new= df1[(z<3).all(axis=1)]"
   ]
  },
  {
   "cell_type": "code",
   "execution_count": 211,
   "id": "3861e357",
   "metadata": {},
   "outputs": [
    {
     "data": {
      "text/plain": [
       "(8053, 7)"
      ]
     },
     "execution_count": 211,
     "metadata": {},
     "output_type": "execute_result"
    }
   ],
   "source": [
    "df_new.shape"
   ]
  },
  {
   "cell_type": "code",
   "execution_count": 212,
   "id": "d397b03e",
   "metadata": {},
   "outputs": [
    {
     "data": {
      "text/plain": [
       "(8348, 7)"
      ]
     },
     "execution_count": 212,
     "metadata": {},
     "output_type": "execute_result"
    }
   ],
   "source": [
    "df.shape"
   ]
  },
  {
   "cell_type": "code",
   "execution_count": 215,
   "id": "b41eed4d",
   "metadata": {},
   "outputs": [
    {
     "data": {
      "text/plain": [
       "3.53378054623862"
      ]
     },
     "execution_count": 215,
     "metadata": {},
     "output_type": "execute_result"
    }
   ],
   "source": [
    "loss_percent= (8348-8053)/8348*100\n",
    "loss_percent"
   ]
  },
  {
   "cell_type": "markdown",
   "id": "f910546b",
   "metadata": {},
   "source": [
    "Only 3% of the data is lost with outliers, so we shall proceed with model training"
   ]
  },
  {
   "cell_type": "code",
   "execution_count": 220,
   "id": "9ba64b0d",
   "metadata": {},
   "outputs": [],
   "source": [
    "df1= pd.DataFrame(df_new, columns= df.columns)"
   ]
  },
  {
   "cell_type": "markdown",
   "id": "aa5fbd24",
   "metadata": {},
   "source": [
    "# Spliting the data"
   ]
  },
  {
   "cell_type": "code",
   "execution_count": 229,
   "id": "10017a3a",
   "metadata": {},
   "outputs": [],
   "source": [
    "x= df1.drop('Used Car Price', axis=1)\n",
    "y=df1['Used Car Price']"
   ]
  },
  {
   "cell_type": "markdown",
   "id": "bc0dcc23",
   "metadata": {},
   "source": [
    "The target variable is of continous type, so we shall use regression models."
   ]
  },
  {
   "cell_type": "markdown",
   "id": "c2a3bc9f",
   "metadata": {},
   "source": [
    "# Scaling Of Features"
   ]
  },
  {
   "cell_type": "code",
   "execution_count": 231,
   "id": "095a94a2",
   "metadata": {},
   "outputs": [
    {
     "data": {
      "text/html": [
       "<div>\n",
       "<style scoped>\n",
       "    .dataframe tbody tr th:only-of-type {\n",
       "        vertical-align: middle;\n",
       "    }\n",
       "\n",
       "    .dataframe tbody tr th {\n",
       "        vertical-align: top;\n",
       "    }\n",
       "\n",
       "    .dataframe thead th {\n",
       "        text-align: right;\n",
       "    }\n",
       "</style>\n",
       "<table border=\"1\" class=\"dataframe\">\n",
       "  <thead>\n",
       "    <tr style=\"text-align: right;\">\n",
       "      <th></th>\n",
       "      <th>Used Car Model</th>\n",
       "      <th>Year of Manufacture</th>\n",
       "      <th>Kilometers Driven</th>\n",
       "      <th>Fuel Type</th>\n",
       "      <th>Transmission Type</th>\n",
       "      <th>Location</th>\n",
       "    </tr>\n",
       "  </thead>\n",
       "  <tbody>\n",
       "    <tr>\n",
       "      <th>0</th>\n",
       "      <td>-1.088618</td>\n",
       "      <td>0.854103</td>\n",
       "      <td>-1.566333</td>\n",
       "      <td>1.096250</td>\n",
       "      <td>0.373742</td>\n",
       "      <td>-0.206173</td>\n",
       "    </tr>\n",
       "    <tr>\n",
       "      <th>1</th>\n",
       "      <td>-1.088618</td>\n",
       "      <td>-0.221355</td>\n",
       "      <td>0.571814</td>\n",
       "      <td>-0.855359</td>\n",
       "      <td>0.373742</td>\n",
       "      <td>-0.206173</td>\n",
       "    </tr>\n",
       "    <tr>\n",
       "      <th>2</th>\n",
       "      <td>-1.589312</td>\n",
       "      <td>0.854103</td>\n",
       "      <td>-0.757045</td>\n",
       "      <td>-0.855359</td>\n",
       "      <td>0.373742</td>\n",
       "      <td>-0.206173</td>\n",
       "    </tr>\n",
       "    <tr>\n",
       "      <th>3</th>\n",
       "      <td>-1.346494</td>\n",
       "      <td>0.316374</td>\n",
       "      <td>0.535899</td>\n",
       "      <td>-0.855359</td>\n",
       "      <td>0.373742</td>\n",
       "      <td>-0.206173</td>\n",
       "    </tr>\n",
       "    <tr>\n",
       "      <th>4</th>\n",
       "      <td>0.407815</td>\n",
       "      <td>-1.027948</td>\n",
       "      <td>-0.661272</td>\n",
       "      <td>1.096250</td>\n",
       "      <td>0.373742</td>\n",
       "      <td>-0.206173</td>\n",
       "    </tr>\n",
       "  </tbody>\n",
       "</table>\n",
       "</div>"
      ],
      "text/plain": [
       "   Used Car Model  Year of Manufacture  Kilometers Driven  Fuel Type  \\\n",
       "0       -1.088618             0.854103          -1.566333   1.096250   \n",
       "1       -1.088618            -0.221355           0.571814  -0.855359   \n",
       "2       -1.589312             0.854103          -0.757045  -0.855359   \n",
       "3       -1.346494             0.316374           0.535899  -0.855359   \n",
       "4        0.407815            -1.027948          -0.661272   1.096250   \n",
       "\n",
       "   Transmission Type  Location  \n",
       "0           0.373742 -0.206173  \n",
       "1           0.373742 -0.206173  \n",
       "2           0.373742 -0.206173  \n",
       "3           0.373742 -0.206173  \n",
       "4           0.373742 -0.206173  "
      ]
     },
     "execution_count": 231,
     "metadata": {},
     "output_type": "execute_result"
    }
   ],
   "source": [
    "scaler= StandardScaler()\n",
    "x=pd.DataFrame(scaler.fit_transform(x), columns=x.columns)\n",
    "x.head()"
   ]
  },
  {
   "cell_type": "markdown",
   "id": "b7becc52",
   "metadata": {},
   "source": [
    "# Train the Model"
   ]
  },
  {
   "cell_type": "code",
   "execution_count": 232,
   "id": "b311676e",
   "metadata": {},
   "outputs": [],
   "source": [
    "from sklearn.linear_model import LinearRegression,Ridge, Lasso\n",
    "from sklearn.tree import DecisionTreeRegressor\n",
    "from sklearn.ensemble import RandomForestRegressor, GradientBoostingRegressor\n",
    "from sklearn.neighbors import KNeighborsRegressor\n",
    "from sklearn.svm import SVR\n",
    "from sklearn.metrics import accuracy_score,r2_score,mean_squared_error,mean_absolute_error\n",
    "from sklearn.model_selection import train_test_split"
   ]
  },
  {
   "cell_type": "markdown",
   "id": "e8b50903",
   "metadata": {},
   "source": [
    "# Check the best Random State"
   ]
  },
  {
   "cell_type": "markdown",
   "id": "f9d0d0b9",
   "metadata": {},
   "source": [
    "# Linear Regression"
   ]
  },
  {
   "cell_type": "code",
   "execution_count": 237,
   "id": "fca749b9",
   "metadata": {},
   "outputs": [
    {
     "name": "stdout",
     "output_type": "stream",
     "text": [
      "Best R2_score is 0.8519386589017288 on Random_state 49\n"
     ]
    }
   ],
   "source": [
    "maxr2=0\n",
    "maxRS=0\n",
    "\n",
    "for i in range(1,200):\n",
    "    xtrain,xtest,ytrain,ytest= train_test_split(x,y,test_size=20,random_state=i)\n",
    "    lr=LinearRegression()\n",
    "    lr.fit(xtrain,ytrain)\n",
    "    predlr= lr.predict(xtest)\n",
    "    R2=r2_score(ytest,predlr)\n",
    "    if R2>maxr2:\n",
    "        maxr2=R2\n",
    "        maxRS=i\n",
    "print(\"Best R2_score is\", maxr2, 'on Random_state',maxRS)"
   ]
  },
  {
   "cell_type": "markdown",
   "id": "a8e2c637",
   "metadata": {},
   "source": [
    "# To Find the Best Cross Validation Score"
   ]
  },
  {
   "cell_type": "code",
   "execution_count": 234,
   "id": "7c302882",
   "metadata": {},
   "outputs": [],
   "source": [
    "pred_tr= lr.predict(xtrain)\n",
    "pred_ts= lr.predict(xtest)"
   ]
  },
  {
   "cell_type": "code",
   "execution_count": 235,
   "id": "7af08f01",
   "metadata": {},
   "outputs": [],
   "source": [
    "train_accuracy= r2_score(ytrain,pred_tr)\n",
    "test_accuracy= r2_score(ytest,pred_ts)"
   ]
  },
  {
   "cell_type": "code",
   "execution_count": 236,
   "id": "79eb0100",
   "metadata": {},
   "outputs": [
    {
     "name": "stdout",
     "output_type": "stream",
     "text": [
      "At cross fold 2 the cv score is 0.4974768879238155 and accuracy score for training is 0.49933326363470587 and the accuracy for testing is 0.6352316187683589\n",
      "\n",
      "\n",
      "At cross fold 3 the cv score is 0.49763786019362016 and accuracy score for training is 0.49933326363470587 and the accuracy for testing is 0.6352316187683589\n",
      "\n",
      "\n",
      "At cross fold 4 the cv score is 0.4947333451353525 and accuracy score for training is 0.49933326363470587 and the accuracy for testing is 0.6352316187683589\n",
      "\n",
      "\n",
      "At cross fold 5 the cv score is 0.4944676008996935 and accuracy score for training is 0.49933326363470587 and the accuracy for testing is 0.6352316187683589\n",
      "\n",
      "\n",
      "At cross fold 6 the cv score is 0.4970680575346291 and accuracy score for training is 0.49933326363470587 and the accuracy for testing is 0.6352316187683589\n",
      "\n",
      "\n",
      "At cross fold 7 the cv score is 0.4909576973592659 and accuracy score for training is 0.49933326363470587 and the accuracy for testing is 0.6352316187683589\n",
      "\n",
      "\n",
      "At cross fold 8 the cv score is 0.4907212792108562 and accuracy score for training is 0.49933326363470587 and the accuracy for testing is 0.6352316187683589\n",
      "\n",
      "\n",
      "At cross fold 9 the cv score is 0.4972562706991765 and accuracy score for training is 0.49933326363470587 and the accuracy for testing is 0.6352316187683589\n",
      "\n",
      "\n"
     ]
    }
   ],
   "source": [
    "from sklearn.model_selection import cross_val_score\n",
    "for j in range(2,10):\n",
    "    cv_score= cross_val_score(lr,x,y,cv=j)\n",
    "    cv_mean=cv_score.mean()\n",
    "    print(f\"At cross fold {j} the cv score is {cv_mean} and accuracy score for training is {train_accuracy} and the accuracy for testing is {test_accuracy}\")\n",
    "    print(\"\\n\")"
   ]
  },
  {
   "cell_type": "markdown",
   "id": "6c124903",
   "metadata": {},
   "source": [
    "Random_state= 49, CV score is best with cv=3. So we shall use this values to test other models as well"
   ]
  },
  {
   "cell_type": "markdown",
   "id": "a89a015c",
   "metadata": {},
   "source": [
    "# Check The Accuracy and Error"
   ]
  },
  {
   "cell_type": "code",
   "execution_count": 238,
   "id": "c83b5c4b",
   "metadata": {},
   "outputs": [],
   "source": [
    "xtrain,xtest,ytrain,ytest=train_test_split(x,y,test_size=20, random_state=49)"
   ]
  },
  {
   "cell_type": "code",
   "execution_count": 240,
   "id": "541470d8",
   "metadata": {},
   "outputs": [
    {
     "name": "stdout",
     "output_type": "stream",
     "text": [
      "R2= 0.8519386589017288\n",
      "RMSE= 151252.54390632082\n",
      "MAE= 119645.55393430719\n"
     ]
    }
   ],
   "source": [
    "#Linear Regression\n",
    "\n",
    "lr=LinearRegression()\n",
    "lr.fit(xtrain,ytrain)\n",
    "predlr= lr.predict(xtest)\n",
    "print('R2=', r2_score(ytest,predlr))\n",
    "print('RMSE=', np.sqrt(mean_squared_error(ytest,predlr)))\n",
    "print('MAE=', mean_absolute_error(ytest,predlr))"
   ]
  },
  {
   "cell_type": "code",
   "execution_count": 241,
   "id": "ee7559a1",
   "metadata": {},
   "outputs": [
    {
     "name": "stdout",
     "output_type": "stream",
     "text": [
      "Cross Validation Score of LinearRegression is: 0.49763786019362016\n"
     ]
    }
   ],
   "source": [
    "cv_score=cross_val_score(lr,x,y, cv=3)\n",
    "print('Cross Validation Score of LinearRegression is:', cv_score.mean())"
   ]
  },
  {
   "cell_type": "code",
   "execution_count": 242,
   "id": "e5ae043e",
   "metadata": {},
   "outputs": [
    {
     "data": {
      "text/plain": [
       "0.3543"
      ]
     },
     "execution_count": 242,
     "metadata": {},
     "output_type": "execute_result"
    }
   ],
   "source": [
    "diff= 0.8519- 0.4976\n",
    "diff"
   ]
  },
  {
   "cell_type": "code",
   "execution_count": 243,
   "id": "00fa4c1d",
   "metadata": {},
   "outputs": [
    {
     "name": "stdout",
     "output_type": "stream",
     "text": [
      "R2= 0.8515510878532258\n",
      "RMSE= 151450.3767589356\n",
      "MBE= 119017.0626608385\n"
     ]
    }
   ],
   "source": [
    "# Ridge Regression\n",
    "\n",
    "rd=Ridge(alpha=1e-2, normalize=True)\n",
    "rd.fit(xtrain,ytrain)\n",
    "predrd= rd.predict(xtest)\n",
    "print('R2=', r2_score(ytest,predrd))\n",
    "print('RMSE=', np.sqrt(mean_squared_error(ytest,predrd)))\n",
    "print('MBE=', mean_absolute_error(ytest,predrd))"
   ]
  },
  {
   "cell_type": "code",
   "execution_count": 244,
   "id": "e59e952a",
   "metadata": {},
   "outputs": [
    {
     "name": "stdout",
     "output_type": "stream",
     "text": [
      "Cross Validation Score of RidgeRegression is: 0.49764996821710544\n"
     ]
    }
   ],
   "source": [
    "cv_score=cross_val_score(rd,x,y, cv=3)\n",
    "print('Cross Validation Score of RidgeRegression is:', cv_score.mean())"
   ]
  },
  {
   "cell_type": "code",
   "execution_count": 245,
   "id": "21486f14",
   "metadata": {},
   "outputs": [
    {
     "data": {
      "text/plain": [
       "0.35390000000000005"
      ]
     },
     "execution_count": 245,
     "metadata": {},
     "output_type": "execute_result"
    }
   ],
   "source": [
    "diff= 0.8515- 0.4976\n",
    "diff"
   ]
  },
  {
   "cell_type": "code",
   "execution_count": 246,
   "id": "885e472f",
   "metadata": {},
   "outputs": [
    {
     "name": "stdout",
     "output_type": "stream",
     "text": [
      "R2= 0.8519402068834074\n",
      "RMSE= 151251.75323139835\n",
      "MBE= 119644.59781313362\n"
     ]
    }
   ],
   "source": [
    "# Lasso Regression\n",
    "\n",
    "ls=Lasso(alpha=1e-2, normalize=True)\n",
    "ls.fit(xtrain,ytrain)\n",
    "predls= ls.predict(xtest)\n",
    "print('R2=', r2_score(ytest,predls))\n",
    "print('RMSE=', np.sqrt(mean_squared_error(ytest,predls)))\n",
    "print('MBE=', mean_absolute_error(ytest,predls))"
   ]
  },
  {
   "cell_type": "code",
   "execution_count": 257,
   "id": "80ad2a7e",
   "metadata": {},
   "outputs": [
    {
     "name": "stdout",
     "output_type": "stream",
     "text": [
      "Cross Validation Score of LassoRegression is: 0.4972563151000655\n"
     ]
    }
   ],
   "source": [
    "cv_score=cross_val_score(ls,x,y, cv=9)\n",
    "print('Cross Validation Score of LassoRegression is:', cv_score.mean())"
   ]
  },
  {
   "cell_type": "code",
   "execution_count": 248,
   "id": "dcd97cb2",
   "metadata": {},
   "outputs": [
    {
     "data": {
      "text/plain": [
       "0.3543"
      ]
     },
     "execution_count": 248,
     "metadata": {},
     "output_type": "execute_result"
    }
   ],
   "source": [
    "diff=0.8519-0.4976\n",
    "diff"
   ]
  },
  {
   "cell_type": "code",
   "execution_count": 249,
   "id": "162aa234",
   "metadata": {},
   "outputs": [
    {
     "name": "stdout",
     "output_type": "stream",
     "text": [
      "Score: 0.9948789483167475\n",
      "root_mean_squared_error 109000.63989896268\n",
      "mean_absolute_error: 73670.88333333333\n",
      "r2_score: 0.930146730691516\n"
     ]
    }
   ],
   "source": [
    "# Decision Tree Regressor\n",
    "\n",
    "dtc=DecisionTreeRegressor()\n",
    "dtc.fit(xtrain,ytrain)\n",
    "preddtc= dtc.predict(xtest)\n",
    "print('Score:',dtc.score(xtrain,ytrain))\n",
    "print('root_mean_squared_error', np.sqrt(mean_squared_error(ytest,preddtc)))\n",
    "print('mean_absolute_error:', mean_absolute_error(preddtc,ytest))\n",
    "print('r2_score:', r2_score(preddtc,ytest))"
   ]
  },
  {
   "cell_type": "code",
   "execution_count": 256,
   "id": "3d5b1b2c",
   "metadata": {},
   "outputs": [
    {
     "name": "stdout",
     "output_type": "stream",
     "text": [
      "Cross Validation Score of DecisionTreeRegressor is: 0.7785162070515667\n"
     ]
    }
   ],
   "source": [
    "cv_score=cross_val_score(dtc,x,y, cv=9)\n",
    "print('Cross Validation Score of DecisionTreeRegressor is:', cv_score.mean())"
   ]
  },
  {
   "cell_type": "code",
   "execution_count": 258,
   "id": "b4f6b20f",
   "metadata": {},
   "outputs": [
    {
     "data": {
      "text/plain": [
       "0.15160000000000007"
      ]
     },
     "execution_count": 258,
     "metadata": {},
     "output_type": "execute_result"
    }
   ],
   "source": [
    "diff= 0.9301-0.7785\n",
    "diff"
   ]
  },
  {
   "cell_type": "code",
   "execution_count": 259,
   "id": "72d5d153",
   "metadata": {},
   "outputs": [
    {
     "name": "stdout",
     "output_type": "stream",
     "text": [
      "root mean_squared_error 102860.09269043796\n",
      "mean_absolute_error: 63769.345373015865\n",
      "Rf Score 0.9831105004575759\n",
      "r2_score: 0.9412285363230315\n"
     ]
    }
   ],
   "source": [
    "# Random Forest Regressor\n",
    "\n",
    "rf=RandomForestRegressor()\n",
    "rf.fit(xtrain,ytrain)\n",
    "predrf= rf.predict(xtest)\n",
    "print('root mean_squared_error', np.sqrt(mean_squared_error(ytest,predrf)))\n",
    "print('mean_absolute_error:', mean_absolute_error(predrf,ytest))\n",
    "print('Rf Score', rf.score(xtrain,ytrain))\n",
    "print('r2_score:', r2_score(predrf,ytest))"
   ]
  },
  {
   "cell_type": "code",
   "execution_count": 260,
   "id": "b802e2f2",
   "metadata": {},
   "outputs": [
    {
     "name": "stdout",
     "output_type": "stream",
     "text": [
      "Cross Validation Score of RandomForestRegressor is: 0.862004404437632\n"
     ]
    }
   ],
   "source": [
    "cv_score=cross_val_score(rf,x,y, cv=9)\n",
    "print('Cross Validation Score of RandomForestRegressor is:', cv_score.mean())"
   ]
  },
  {
   "cell_type": "code",
   "execution_count": 261,
   "id": "c38345f4",
   "metadata": {},
   "outputs": [
    {
     "data": {
      "text/plain": [
       "0.07920000000000005"
      ]
     },
     "execution_count": 261,
     "metadata": {},
     "output_type": "execute_result"
    }
   ],
   "source": [
    "diff= 0.9412- 0.8620\n",
    "diff"
   ]
  },
  {
   "cell_type": "code",
   "execution_count": 262,
   "id": "56d12f18",
   "metadata": {},
   "outputs": [
    {
     "name": "stdout",
     "output_type": "stream",
     "text": [
      "root mean_squared_error 405223.68438796565\n",
      "mean_absolute_error: 255201.56550282557\n",
      "Score: -0.0482977267298883\n",
      "r2_score: -1431979.7321459975\n"
     ]
    }
   ],
   "source": [
    "#SVR\n",
    "\n",
    "svc=SVR()\n",
    "svc.fit(xtrain,ytrain)\n",
    "predsvc= svc.predict(xtest)\n",
    "print('root mean_squared_error', np.sqrt(mean_squared_error(ytest,predsvc)))\n",
    "print('mean_absolute_error:', mean_absolute_error(predsvc,ytest))\n",
    "print('Score:', svc.score(xtrain,ytrain))\n",
    "print('r2_score:', r2_score(predsvc,ytest))"
   ]
  },
  {
   "cell_type": "code",
   "execution_count": 263,
   "id": "dca78e2c",
   "metadata": {},
   "outputs": [
    {
     "name": "stdout",
     "output_type": "stream",
     "text": [
      "root mean_squared_error 129396.7797219699\n",
      "mean_absolute_error: 99130.04000000001\n",
      "Rf Score 0.8294617219343752\n",
      "r2_score: 0.9011673587839933\n"
     ]
    }
   ],
   "source": [
    "# K Neighbors Regressor\n",
    "\n",
    "knn=KNeighborsRegressor()\n",
    "knn.fit(xtrain,ytrain)\n",
    "predknn= knn.predict(xtest)\n",
    "print('root mean_squared_error', np.sqrt(mean_squared_error(ytest,predknn)))\n",
    "print('mean_absolute_error:', mean_absolute_error(predknn,ytest))\n",
    "print('Rf Score', knn.score(xtrain,ytrain))\n",
    "print('r2_score:', r2_score(predknn,ytest))"
   ]
  },
  {
   "cell_type": "code",
   "execution_count": 264,
   "id": "c5ae031f",
   "metadata": {},
   "outputs": [
    {
     "name": "stdout",
     "output_type": "stream",
     "text": [
      "Cross Validation Score of KNN is: 0.6775129191136643\n"
     ]
    }
   ],
   "source": [
    "cv_score=cross_val_score(knn,x,y, cv=9)\n",
    "print('Cross Validation Score of KNN is:', cv_score.mean())"
   ]
  },
  {
   "cell_type": "code",
   "execution_count": 265,
   "id": "6b0c027b",
   "metadata": {},
   "outputs": [
    {
     "data": {
      "text/plain": [
       "0.22360000000000002"
      ]
     },
     "execution_count": 265,
     "metadata": {},
     "output_type": "execute_result"
    }
   ],
   "source": [
    "diff= 0.9011-0.6775\n",
    "diff"
   ]
  },
  {
   "cell_type": "markdown",
   "id": "bc512e05",
   "metadata": {},
   "source": [
    "The difference between r2 score and CV score is less with RandomForestRegressor. So we shall improve the performance of the model by Hyper Parameter Tuning."
   ]
  },
  {
   "cell_type": "markdown",
   "id": "2bcb1eb7",
   "metadata": {},
   "source": [
    "# HyperParameter Tuning With GridSearchCV"
   ]
  },
  {
   "cell_type": "code",
   "execution_count": 266,
   "id": "a0247e96",
   "metadata": {},
   "outputs": [],
   "source": [
    "from sklearn.model_selection import GridSearchCV"
   ]
  },
  {
   "cell_type": "code",
   "execution_count": 267,
   "id": "ec6b22a9",
   "metadata": {},
   "outputs": [
    {
     "data": {
      "text/plain": [
       "RandomForestRegressor()"
      ]
     },
     "execution_count": 267,
     "metadata": {},
     "output_type": "execute_result"
    }
   ],
   "source": [
    "RandomForestRegressor()"
   ]
  },
  {
   "cell_type": "code",
   "execution_count": 268,
   "id": "3c97b7f1",
   "metadata": {},
   "outputs": [],
   "source": [
    "parameters={'max_features': [\"auto\", \"sqrt\", \"log2\"],\n",
    "            'min_samples_leaf': [1,2,3],\n",
    "            'criterion':[\"squared_error\",\"absolute_error\", \"poisson\"],\n",
    "            'max_depth':[3,4,5,6],\n",
    "            'min_samples_split': [2,3,4,5]}"
   ]
  },
  {
   "cell_type": "code",
   "execution_count": 269,
   "id": "cbef8e4c",
   "metadata": {},
   "outputs": [
    {
     "data": {
      "text/plain": [
       "{'criterion': 'squared_error',\n",
       " 'max_depth': 6,\n",
       " 'max_features': 'auto',\n",
       " 'min_samples_leaf': 1,\n",
       " 'min_samples_split': 2}"
      ]
     },
     "execution_count": 269,
     "metadata": {},
     "output_type": "execute_result"
    }
   ],
   "source": [
    "GCV= GridSearchCV(RandomForestRegressor(), parameters, cv=9, scoring='r2')\n",
    "GCV.fit(xtrain,ytrain)\n",
    "GCV.best_params_"
   ]
  },
  {
   "cell_type": "code",
   "execution_count": 270,
   "id": "da891fd1",
   "metadata": {},
   "outputs": [
    {
     "data": {
      "text/plain": [
       "RandomForestRegressor(max_depth=6)"
      ]
     },
     "execution_count": 270,
     "metadata": {},
     "output_type": "execute_result"
    }
   ],
   "source": [
    "GCV.best_estimator_"
   ]
  },
  {
   "cell_type": "code",
   "execution_count": 271,
   "id": "a26d3dad",
   "metadata": {},
   "outputs": [
    {
     "data": {
      "text/plain": [
       "0.59627699866985"
      ]
     },
     "execution_count": 271,
     "metadata": {},
     "output_type": "execute_result"
    }
   ],
   "source": [
    "GCV_pred=GCV.best_estimator_.predict(xtest)\n",
    "r2_score(ytest,GCV_pred)"
   ]
  },
  {
   "cell_type": "code",
   "execution_count": 297,
   "id": "f3d85b41",
   "metadata": {},
   "outputs": [
    {
     "name": "stdout",
     "output_type": "stream",
     "text": [
      "root mean_squared_error 140578.05874328382\n",
      "mean_absolute_error: 113477.58211537167\n",
      "Rf Score 0.9831105004575759\n",
      "r2_score: 0.8884742368094669\n"
     ]
    }
   ],
   "source": [
    "#Final Model\n",
    "flrf=RandomForestRegressor(max_depth=4, \n",
    "                         min_samples_split=3,\n",
    "                         min_samples_leaf=3,\n",
    "                         max_features= 'log2',\n",
    "                         criterion = 'squared_error')\n",
    "flrf.fit(xtrain,ytrain)\n",
    "predrf= flrf.predict(xtest)\n",
    "print('root mean_squared_error', np.sqrt(mean_squared_error(ytest,predrf)))\n",
    "print('mean_absolute_error:', mean_absolute_error(predrf,ytest))\n",
    "print('Rf Score', rf.score(xtrain,ytrain))\n",
    "print('r2_score:', r2_score(predrf,ytest))"
   ]
  },
  {
   "cell_type": "markdown",
   "id": "1175f6c2",
   "metadata": {},
   "source": [
    "After Tuning for Hyper Parameter the accuracy has improved to 89% without underfitting or overfitting. So we shall save the model."
   ]
  },
  {
   "cell_type": "markdown",
   "id": "1e9dfa90",
   "metadata": {},
   "source": [
    "# Save The Model"
   ]
  },
  {
   "cell_type": "code",
   "execution_count": 298,
   "id": "e87bd181",
   "metadata": {},
   "outputs": [],
   "source": [
    "import pickle\n",
    "filename= 'Used_Car_Price.pkl'\n",
    "pickle.dump(flrf,open(filename, 'wb'))"
   ]
  },
  {
   "cell_type": "markdown",
   "id": "5fb23d99",
   "metadata": {},
   "source": [
    "# Compare Original results with the Predicted Results"
   ]
  },
  {
   "cell_type": "code",
   "execution_count": 299,
   "id": "f0820fb9",
   "metadata": {},
   "outputs": [
    {
     "data": {
      "text/html": [
       "<div>\n",
       "<style scoped>\n",
       "    .dataframe tbody tr th:only-of-type {\n",
       "        vertical-align: middle;\n",
       "    }\n",
       "\n",
       "    .dataframe tbody tr th {\n",
       "        vertical-align: top;\n",
       "    }\n",
       "\n",
       "    .dataframe thead th {\n",
       "        text-align: right;\n",
       "    }\n",
       "</style>\n",
       "<table border=\"1\" class=\"dataframe\">\n",
       "  <thead>\n",
       "    <tr style=\"text-align: right;\">\n",
       "      <th></th>\n",
       "      <th>original</th>\n",
       "      <th>Predicted</th>\n",
       "    </tr>\n",
       "  </thead>\n",
       "  <tbody>\n",
       "    <tr>\n",
       "      <th>0</th>\n",
       "      <td>180000.0</td>\n",
       "      <td>2.991580e+05</td>\n",
       "    </tr>\n",
       "    <tr>\n",
       "      <th>1</th>\n",
       "      <td>400000.0</td>\n",
       "      <td>6.049486e+05</td>\n",
       "    </tr>\n",
       "    <tr>\n",
       "      <th>2</th>\n",
       "      <td>725000.0</td>\n",
       "      <td>6.457354e+05</td>\n",
       "    </tr>\n",
       "    <tr>\n",
       "      <th>3</th>\n",
       "      <td>380000.0</td>\n",
       "      <td>3.973217e+05</td>\n",
       "    </tr>\n",
       "    <tr>\n",
       "      <th>4</th>\n",
       "      <td>375000.0</td>\n",
       "      <td>3.204233e+05</td>\n",
       "    </tr>\n",
       "    <tr>\n",
       "      <th>5</th>\n",
       "      <td>445000.0</td>\n",
       "      <td>5.200905e+05</td>\n",
       "    </tr>\n",
       "    <tr>\n",
       "      <th>6</th>\n",
       "      <td>1775000.0</td>\n",
       "      <td>1.776372e+06</td>\n",
       "    </tr>\n",
       "    <tr>\n",
       "      <th>7</th>\n",
       "      <td>350000.0</td>\n",
       "      <td>4.180126e+05</td>\n",
       "    </tr>\n",
       "    <tr>\n",
       "      <th>8</th>\n",
       "      <td>500000.0</td>\n",
       "      <td>3.397874e+05</td>\n",
       "    </tr>\n",
       "    <tr>\n",
       "      <th>9</th>\n",
       "      <td>260000.0</td>\n",
       "      <td>2.361668e+05</td>\n",
       "    </tr>\n",
       "    <tr>\n",
       "      <th>10</th>\n",
       "      <td>300000.0</td>\n",
       "      <td>3.530093e+05</td>\n",
       "    </tr>\n",
       "    <tr>\n",
       "      <th>11</th>\n",
       "      <td>630000.0</td>\n",
       "      <td>5.081604e+05</td>\n",
       "    </tr>\n",
       "    <tr>\n",
       "      <th>12</th>\n",
       "      <td>650000.0</td>\n",
       "      <td>5.039713e+05</td>\n",
       "    </tr>\n",
       "    <tr>\n",
       "      <th>13</th>\n",
       "      <td>270000.0</td>\n",
       "      <td>3.191250e+05</td>\n",
       "    </tr>\n",
       "    <tr>\n",
       "      <th>14</th>\n",
       "      <td>690000.0</td>\n",
       "      <td>5.709282e+05</td>\n",
       "    </tr>\n",
       "    <tr>\n",
       "      <th>15</th>\n",
       "      <td>282000.0</td>\n",
       "      <td>5.412082e+05</td>\n",
       "    </tr>\n",
       "    <tr>\n",
       "      <th>16</th>\n",
       "      <td>600000.0</td>\n",
       "      <td>6.960807e+05</td>\n",
       "    </tr>\n",
       "    <tr>\n",
       "      <th>17</th>\n",
       "      <td>1425000.0</td>\n",
       "      <td>1.776372e+06</td>\n",
       "    </tr>\n",
       "    <tr>\n",
       "      <th>18</th>\n",
       "      <td>120000.0</td>\n",
       "      <td>2.319137e+05</td>\n",
       "    </tr>\n",
       "    <tr>\n",
       "      <th>19</th>\n",
       "      <td>580000.0</td>\n",
       "      <td>4.218887e+05</td>\n",
       "    </tr>\n",
       "  </tbody>\n",
       "</table>\n",
       "</div>"
      ],
      "text/plain": [
       "     original     Predicted\n",
       "0    180000.0  2.991580e+05\n",
       "1    400000.0  6.049486e+05\n",
       "2    725000.0  6.457354e+05\n",
       "3    380000.0  3.973217e+05\n",
       "4    375000.0  3.204233e+05\n",
       "5    445000.0  5.200905e+05\n",
       "6   1775000.0  1.776372e+06\n",
       "7    350000.0  4.180126e+05\n",
       "8    500000.0  3.397874e+05\n",
       "9    260000.0  2.361668e+05\n",
       "10   300000.0  3.530093e+05\n",
       "11   630000.0  5.081604e+05\n",
       "12   650000.0  5.039713e+05\n",
       "13   270000.0  3.191250e+05\n",
       "14   690000.0  5.709282e+05\n",
       "15   282000.0  5.412082e+05\n",
       "16   600000.0  6.960807e+05\n",
       "17  1425000.0  1.776372e+06\n",
       "18   120000.0  2.319137e+05\n",
       "19   580000.0  4.218887e+05"
      ]
     },
     "execution_count": 299,
     "metadata": {},
     "output_type": "execute_result"
    }
   ],
   "source": [
    "x=np.array(ytest)\n",
    "predicted= np.array(flrf.predict(xtest))\n",
    "df_con= pd.DataFrame({'original': x, 'Predicted': predicted}, index= range(len(x)))\n",
    "df_con"
   ]
  },
  {
   "cell_type": "markdown",
   "id": "ba75c793",
   "metadata": {},
   "source": [
    "After complete analysis of the dataset, we did all the processing of the dataset to make it clean and structured to train different models to get the desired output.\n",
    "\n",
    "RandomforestRegressor gave good results with the r2 accuracy of 89%."
   ]
  },
  {
   "cell_type": "code",
   "execution_count": null,
   "id": "c8f9071d",
   "metadata": {},
   "outputs": [],
   "source": []
  }
 ],
 "metadata": {
  "kernelspec": {
   "display_name": "Python 3",
   "language": "python",
   "name": "python3"
  },
  "language_info": {
   "codemirror_mode": {
    "name": "ipython",
    "version": 3
   },
   "file_extension": ".py",
   "mimetype": "text/x-python",
   "name": "python",
   "nbconvert_exporter": "python",
   "pygments_lexer": "ipython3",
   "version": "3.8.8"
  }
 },
 "nbformat": 4,
 "nbformat_minor": 5
}
