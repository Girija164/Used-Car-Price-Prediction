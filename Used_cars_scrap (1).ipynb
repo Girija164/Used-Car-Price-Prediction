{
 "cells": [
  {
   "cell_type": "code",
   "execution_count": 1,
   "id": "ef4a9854",
   "metadata": {},
   "outputs": [],
   "source": [
    "import selenium\n",
    "import pandas as pd\n",
    "from selenium import webdriver\n",
    "import warnings\n",
    "warnings.filterwarnings('ignore')\n",
    "import time\n",
    "from selenium.common.exceptions import NoSuchElementException, ElementNotInteractableException\n",
    "from selenium.webdriver.support.ui import WebDriverWait\n",
    "from selenium.webdriver.support import expected_conditions as EC\n",
    "import requests\n"
   ]
  },
  {
   "cell_type": "code",
   "execution_count": 2,
   "id": "86f01b7b",
   "metadata": {},
   "outputs": [],
   "source": [
    "driver= webdriver.Chrome(r'C:\\Users\\user\\Downloads\\chromedriver_win32 (3)\\chromedriver.exe')"
   ]
  },
  {
   "cell_type": "code",
   "execution_count": 142,
   "id": "a28dc81e",
   "metadata": {},
   "outputs": [],
   "source": [
    "url2= 'https://www.olx.in/cars_c84'"
   ]
  },
  {
   "cell_type": "code",
   "execution_count": 143,
   "id": "b69b3860",
   "metadata": {},
   "outputs": [],
   "source": [
    "driver.get(url2)"
   ]
  },
  {
   "cell_type": "code",
   "execution_count": 144,
   "id": "b908f110",
   "metadata": {},
   "outputs": [],
   "source": [
    "driver.maximize_window()\n",
    "time.sleep(2)"
   ]
  },
  {
   "cell_type": "code",
   "execution_count": 101,
   "id": "cf44d947",
   "metadata": {},
   "outputs": [],
   "source": [
    "#location=Delhi\n",
    "searchbox= driver.find_element_by_xpath(\"//div[@class='_3B6d0']/input\")\n",
    "searchbox.click()\n",
    "searchbox.send_keys(\"Delhi\")"
   ]
  },
  {
   "cell_type": "code",
   "execution_count": 102,
   "id": "306725db",
   "metadata": {},
   "outputs": [],
   "source": [
    "confirmclick= driver.find_element_by_xpath(\"/html/body/div[1]/div/header/div/div/div[2]/div/div/div[1]/div/div[2]/div/div/div[1]/div/span/b\").click()  "
   ]
  },
  {
   "cell_type": "code",
   "execution_count": 103,
   "id": "3c8b8f11",
   "metadata": {},
   "outputs": [],
   "source": [
    "url=[]\n",
    "for i in range(0,30):\n",
    "    url_tag= driver.find_elements_by_xpath(\"//li[@class='_31j8e']/a\")\n",
    "\n",
    "    try:\n",
    "        for i in url_tag:\n",
    "            urls= i.get_attribute('href')\n",
    "            url.append(urls)\n",
    "    except NoSuchelementException:\n",
    "            url.append('-')\n",
    "        \n",
    "loadmore= driver.find_element_by_xpath(\"//div[@class='JbJAl']/button\").click()\n",
    "    "
   ]
  },
  {
   "cell_type": "code",
   "execution_count": 105,
   "id": "0b0e91bc",
   "metadata": {},
   "outputs": [],
   "source": [
    "#Location:Chennai\n",
    "searchbox.click()\n",
    "searchbox.send_keys(\"Chennai\")"
   ]
  },
  {
   "cell_type": "code",
   "execution_count": 106,
   "id": "6a76080c",
   "metadata": {},
   "outputs": [],
   "source": [
    "confirmclick= driver.find_element_by_xpath(\"/html/body/div[1]/div/header/div/div/div[2]/div/div/div[1]/div/div[2]/div/div/div[1]/div/span/b\").click()  "
   ]
  },
  {
   "cell_type": "code",
   "execution_count": 107,
   "id": "ad31cb97",
   "metadata": {},
   "outputs": [],
   "source": [
    "url_chn=[]\n",
    "for i in range(0,40):\n",
    "    url_tag= driver.find_elements_by_xpath(\"//li[@class='_31j8e']/a\")\n",
    "\n",
    "    try:\n",
    "        for i in url_tag:\n",
    "            urls= i.get_attribute('href')\n",
    "            url_chn.append(urls)\n",
    "    except NoSuchelementException:\n",
    "            url_chn.append('-')\n",
    "        \n",
    "loadmore= driver.find_element_by_xpath(\"//div[@class='JbJAl']/button\").click()\n",
    "    "
   ]
  },
  {
   "cell_type": "code",
   "execution_count": 109,
   "id": "ddb64e7f",
   "metadata": {},
   "outputs": [],
   "source": [
    "#Location:Mumbai\n",
    "searchbox.click()\n",
    "searchbox.send_keys(\"Mumbai\")"
   ]
  },
  {
   "cell_type": "code",
   "execution_count": 111,
   "id": "217b710a",
   "metadata": {},
   "outputs": [],
   "source": [
    "confirmclick= driver.find_element_by_xpath(\"/html/body/div[1]/div/header/div/div/div[2]/div/div/div[1]/div/div[2]/div/div/div[1]/div/span/b\").click()  "
   ]
  },
  {
   "cell_type": "code",
   "execution_count": 112,
   "id": "344af22d",
   "metadata": {},
   "outputs": [],
   "source": [
    "url_mum=[]\n",
    "for i in range(0,30):\n",
    "    url_tag= driver.find_elements_by_xpath(\"//li[@class='_31j8e']/a\")\n",
    "\n",
    "    try:\n",
    "        for i in url_tag:\n",
    "            urls= i.get_attribute('href')\n",
    "            url_mum.append(urls)\n",
    "    except NoSuchelementException:\n",
    "            url_mum.append('-')\n",
    "        \n",
    "loadmore= driver.find_element_by_xpath(\"//div[@class='JbJAl']/button\").click()\n",
    "    "
   ]
  },
  {
   "cell_type": "code",
   "execution_count": 114,
   "id": "07843bb7",
   "metadata": {},
   "outputs": [],
   "source": [
    "#Location:Kolkatta\n",
    "searchbox.click()\n",
    "searchbox.send_keys(\"Kolkata\")"
   ]
  },
  {
   "cell_type": "code",
   "execution_count": 116,
   "id": "88484922",
   "metadata": {},
   "outputs": [],
   "source": [
    "confirmclick= driver.find_element_by_xpath(\"/html/body/div[1]/div/header/div/div/div[2]/div/div/div[1]/div/div[2]/div/div/div[1]/div/span/b\").click() "
   ]
  },
  {
   "cell_type": "code",
   "execution_count": 117,
   "id": "da59836b",
   "metadata": {},
   "outputs": [],
   "source": [
    "url_kol=[]\n",
    "for i in range(0,30):\n",
    "    url_tag= driver.find_elements_by_xpath(\"//li[@class='_31j8e']/a\")\n",
    "\n",
    "    try:\n",
    "        for i in url_tag:\n",
    "            urls= i.get_attribute('href')\n",
    "            url_kol.append(urls)\n",
    "    except NoSuchelementException:\n",
    "            url_kol.append('-')\n",
    "        \n",
    "loadmore= driver.find_element_by_xpath(\"//div[@class='JbJAl']/button\").click()\n",
    "    "
   ]
  },
  {
   "cell_type": "code",
   "execution_count": 120,
   "id": "99494484",
   "metadata": {},
   "outputs": [],
   "source": [
    "#Location:Hyderabad\n",
    "searchbox.click()\n",
    "searchbox.send_keys(\"Hyderabad\")"
   ]
  },
  {
   "cell_type": "code",
   "execution_count": 122,
   "id": "a148dbfb",
   "metadata": {},
   "outputs": [],
   "source": [
    "confirmclick= driver.find_element_by_xpath(\"/html/body/div[1]/div/header/div/div/div[2]/div/div/div[1]/div/div[2]/div/div/div[1]/div/span/b\").click() "
   ]
  },
  {
   "cell_type": "code",
   "execution_count": 123,
   "id": "1bf1ee43",
   "metadata": {},
   "outputs": [],
   "source": [
    "url_hyd=[]\n",
    "for i in range(0,40):\n",
    "    url_tag= driver.find_elements_by_xpath(\"//li[@class='_31j8e']/a\")\n",
    "\n",
    "    try:\n",
    "        for i in url_tag:\n",
    "            urls= i.get_attribute('href')\n",
    "            url_hyd.append(urls)\n",
    "    except NoSuchelementException:\n",
    "            url_hyd.append('-')\n",
    "        \n",
    "loadmore= driver.find_element_by_xpath(\"//div[@class='JbJAl']/button\").click()\n",
    "    "
   ]
  },
  {
   "cell_type": "code",
   "execution_count": 125,
   "id": "000301d4",
   "metadata": {},
   "outputs": [],
   "source": [
    "#Location:Bangalore\n",
    "searchbox.click()\n",
    "searchbox.send_keys(\"Bangalore\")"
   ]
  },
  {
   "cell_type": "code",
   "execution_count": 127,
   "id": "03d69342",
   "metadata": {},
   "outputs": [],
   "source": [
    "\n",
    "confirmclick= driver.find_element_by_xpath(\"/html/body/div[1]/div/header/div/div/div[2]/div/div/div[1]/div/div[2]/div/div/div[1]/div/span/b\").click() "
   ]
  },
  {
   "cell_type": "code",
   "execution_count": 128,
   "id": "c751fe29",
   "metadata": {},
   "outputs": [],
   "source": [
    "url_bgl=[]\n",
    "for i in range(0,40):\n",
    "    url_tag= driver.find_elements_by_xpath(\"//li[@class='_31j8e']/a\")\n",
    "\n",
    "    try:\n",
    "        for i in url_tag:\n",
    "            urls= i.get_attribute('href')\n",
    "            url_bgl.append(urls)\n",
    "    except NoSuchelementException:\n",
    "            url_bgl.append('-')\n",
    "        \n",
    "loadmore= driver.find_element_by_xpath(\"//div[@class='JbJAl']/button\").click()\n",
    "    "
   ]
  },
  {
   "cell_type": "code",
   "execution_count": 130,
   "id": "3d1cba00",
   "metadata": {},
   "outputs": [],
   "source": [
    "brand=[]\n",
    "car_name=[]\n",
    "year=[]\n",
    "fuel=[]\n",
    "transmission=[]\n",
    "km=[]\n",
    "location=[]\n",
    "price=[]"
   ]
  },
  {
   "cell_type": "code",
   "execution_count": 218,
   "id": "6e30e212",
   "metadata": {
    "scrolled": true
   },
   "outputs": [],
   "source": [
    "for i in url:\n",
    "    driver.get(i) \n",
    "    time.sleep(3)  \n",
    "    \n",
    "    \n",
    "    #Extracting brand\n",
    "    try:\n",
    "        brand.append(driver.find_element_by_xpath(\"/html/body/div[1]/div/main/div/div/div/div[6]/div[1]/div[1]/div/div/div[2]\").text.split())\n",
    "    except NoSuchElementException as e:\n",
    "        brand.append(\"-\")\n",
    "    \n",
    "       \n",
    "    #Extracting the fuel consumed\n",
    "    try:\n",
    "        fuel.append(driver.find_element_by_xpath(\"//div[@class='aOxkz']/div[1]\").text)\n",
    "    except NoSuchElementException as e:\n",
    "        fuel.append(\"-\")      \n",
    "    \n",
    "    #Extracting the transmission\n",
    "    try:\n",
    "        transmission.append(driver.find_element_by_xpath(\"//div[@class='aOxkz']/div[3]\").text)\n",
    "    except NoSuchElementException as e:\n",
    "        transmission.append(\"-\") \n",
    "        \n",
    "    #Extracting km driven\n",
    "    try:\n",
    "        km.append(driver.find_element_by_xpath(\"//div[@class='aOxkz']/div[2]\").text)\n",
    "    except NoSuchElementException as e:\n",
    "        km.append(\"-\") \n",
    "        \n",
    "    #Extracting location\n",
    "    try:\n",
    "        location.append(driver.find_element_by_xpath(\"//div[@class='_1l939']/div[2]/div[2]/div[2]\").text.split()[-1])\n",
    "    except NoSuchElementException as e:\n",
    "        location.append(\"-\")\n",
    "    \n",
    "    #Extracting the price details\n",
    "    try:\n",
    "        price.append(driver.find_element_by_xpath(\"//div[@class='_31KwC']/div\").text.replace('₹',''))\n",
    "    except NoSuchElementException as e:\n",
    "        price.append(\"-\")\n",
    "    \n",
    "    \n",
    "    \n",
    "    "
   ]
  },
  {
   "cell_type": "code",
   "execution_count": 237,
   "id": "93a61b4f",
   "metadata": {},
   "outputs": [],
   "source": [
    "for i in url_chn:\n",
    "    driver.get(i) \n",
    "    time.sleep(3)  \n",
    "    \n",
    "    \n",
    "    #Extracting brand\n",
    "    try:\n",
    "        brand.append(driver.find_element_by_xpath(\"//div[@class='_3Mfu-']/div[2]\").text.split())\n",
    "    except NoSuchElementException as e:\n",
    "        brand.append(\"-\")\n",
    "    \n",
    "       \n",
    "    #Extracting the fuel consumed\n",
    "    try:\n",
    "        fuel.append(driver.find_element_by_xpath(\"//div[@class='aOxkz']/div[1]\").text)\n",
    "    except NoSuchElementException as e:\n",
    "        fuel.append(\"-\")      \n",
    "    \n",
    "    #Extracting the transmission\n",
    "    try:\n",
    "        transmission.append(driver.find_element_by_xpath(\"//div[@class='aOxkz']/div[3]\").text)\n",
    "    except NoSuchElementException as e:\n",
    "        transmission.append(\"-\") \n",
    "        \n",
    "    #Extracting km driven\n",
    "    try:\n",
    "        km.append(driver.find_element_by_xpath(\"//div[@class='aOxkz']/div[2]\").text)\n",
    "    except NoSuchElementException as e:\n",
    "        km.append(\"-\") \n",
    "        \n",
    "    #Extracting location\n",
    "    try:\n",
    "        location.append(driver.find_element_by_xpath(\"//div[@class='_1l939']/div[2]/div[2]/div[2]\").text.split()[-1])\n",
    "    except NoSuchElementException as e:\n",
    "        location.append(\"-\")\n",
    "    \n",
    "    #Extracting the price details\n",
    "    try:\n",
    "        price.append(driver.find_element_by_xpath(\"//div[@class='_31KwC']/div\").text.replace('₹',''))\n",
    "    except NoSuchElementException as e:\n",
    "        price.append(\"-\")\n",
    "    "
   ]
  },
  {
   "cell_type": "code",
   "execution_count": 241,
   "id": "2ae93159",
   "metadata": {},
   "outputs": [],
   "source": [
    "for i in url_mum:\n",
    "    driver.get(i) \n",
    "    time.sleep(3)  \n",
    "    \n",
    "    \n",
    "    #Extracting brand\n",
    "    try:\n",
    "        brand.append(driver.find_element_by_xpath(\"//div[@class='_3Mfu-']/div[2]\").text.split())\n",
    "    except NoSuchElementException as e:\n",
    "        brand.append(\"-\")\n",
    "    \n",
    "       \n",
    "    #Extracting the fuel consumed\n",
    "    try:\n",
    "        fuel.append(driver.find_element_by_xpath(\"//div[@class='aOxkz']/div[1]\").text)\n",
    "    except NoSuchElementException as e:\n",
    "        fuel.append(\"-\")      \n",
    "    \n",
    "    #Extracting the transmission\n",
    "    try:\n",
    "        transmission.append(driver.find_element_by_xpath(\"//div[@class='aOxkz']/div[3]\").text)\n",
    "    except NoSuchElementException as e:\n",
    "        transmission.append(\"-\") \n",
    "        \n",
    "    #Extracting km driven\n",
    "    try:\n",
    "        km.append(driver.find_element_by_xpath(\"//div[@class='aOxkz']/div[2]\").text)\n",
    "    except NoSuchElementException as e:\n",
    "        km.append(\"-\") \n",
    "        \n",
    "    #Extracting location\n",
    "    try:\n",
    "        location.append(driver.find_element_by_xpath(\"//div[@class='_1l939']/div[2]/div[2]/div[2]\").text.split()[-1])\n",
    "    except NoSuchElementException as e:\n",
    "        location.append(\"-\")\n",
    "    \n",
    "    #Extracting the price details\n",
    "    try:\n",
    "        price.append(driver.find_element_by_xpath(\"//div[@class='_31KwC']/div\").text.replace('₹',''))\n",
    "    except NoSuchElementException as e:\n",
    "        price.append(\"-\")\n",
    "    "
   ]
  },
  {
   "cell_type": "code",
   "execution_count": 245,
   "id": "ba1944f7",
   "metadata": {},
   "outputs": [],
   "source": [
    "for i in url_kol:\n",
    "    driver.get(i) \n",
    "    time.sleep(3)  \n",
    "    \n",
    "    \n",
    "    #Extracting brand\n",
    "    try:\n",
    "        brand.append(driver.find_element_by_xpath(\"//div[@class='_3Mfu-']/div[2]\").text.split())\n",
    "    except NoSuchElementException as e:\n",
    "        brand.append(\"-\")\n",
    "    \n",
    "       \n",
    "    #Extracting the fuel consumed\n",
    "    try:\n",
    "        fuel.append(driver.find_element_by_xpath(\"//div[@class='aOxkz']/div[1]\").text)\n",
    "    except NoSuchElementException as e:\n",
    "        fuel.append(\"-\")      \n",
    "    \n",
    "    #Extracting the transmission\n",
    "    try:\n",
    "        transmission.append(driver.find_element_by_xpath(\"//div[@class='aOxkz']/div[3]\").text)\n",
    "    except NoSuchElementException as e:\n",
    "        transmission.append(\"-\") \n",
    "        \n",
    "    #Extracting km driven\n",
    "    try:\n",
    "        km.append(driver.find_element_by_xpath(\"//div[@class='aOxkz']/div[2]\").text)\n",
    "    except NoSuchElementException as e:\n",
    "        km.append(\"-\") \n",
    "        \n",
    "    #Extracting location\n",
    "    try:\n",
    "        location.append(driver.find_element_by_xpath(\"//div[@class='_1l939']/div[2]/div[2]/div[2]\").text.split()[-1])\n",
    "    except NoSuchElementException as e:\n",
    "        location.append(\"-\")\n",
    "    \n",
    "    #Extracting the price details\n",
    "    try:\n",
    "        price.append(driver.find_element_by_xpath(\"//div[@class='_31KwC']/div\").text.replace('₹',''))\n",
    "    except NoSuchElementException as e:\n",
    "        price.append(\"-\")"
   ]
  },
  {
   "cell_type": "code",
   "execution_count": 249,
   "id": "3b795318",
   "metadata": {},
   "outputs": [],
   "source": [
    "for i in url_hyd:\n",
    "    driver.get(i) \n",
    "    time.sleep(3)  \n",
    "    \n",
    "    \n",
    "    #Extracting brand\n",
    "    try:\n",
    "        brand.append(driver.find_element_by_xpath(\"//div[@class='_3Mfu-']/div[2]\").text.split())\n",
    "    except NoSuchElementException as e:\n",
    "        brand.append(\"-\")\n",
    "    \n",
    "       \n",
    "    #Extracting the fuel consumed\n",
    "    try:\n",
    "        fuel.append(driver.find_element_by_xpath(\"//div[@class='aOxkz']/div[1]\").text)\n",
    "    except NoSuchElementException as e:\n",
    "        fuel.append(\"-\")      \n",
    "    \n",
    "    #Extracting the transmission\n",
    "    try:\n",
    "        transmission.append(driver.find_element_by_xpath(\"//div[@class='aOxkz']/div[3]\").text)\n",
    "    except NoSuchElementException as e:\n",
    "        transmission.append(\"-\") \n",
    "        \n",
    "    #Extracting km driven\n",
    "    try:\n",
    "        km.append(driver.find_element_by_xpath(\"//div[@class='aOxkz']/div[2]\").text)\n",
    "    except NoSuchElementException as e:\n",
    "        km.append(\"-\") \n",
    "        \n",
    "    #Extracting location\n",
    "    try:\n",
    "        location.append(driver.find_element_by_xpath(\"//div[@class='_1l939']/div[2]/div[2]/div[2]\").text.split()[-1])\n",
    "    except NoSuchElementException as e:\n",
    "        location.append(\"-\")\n",
    "    \n",
    "    #Extracting the price details\n",
    "    try:\n",
    "        price.append(driver.find_element_by_xpath(\"//div[@class='_31KwC']/div\").text.replace('₹',''))\n",
    "    except NoSuchElementException as e:\n",
    "        price.append(\"-\")"
   ]
  },
  {
   "cell_type": "code",
   "execution_count": 251,
   "id": "9707d23c",
   "metadata": {},
   "outputs": [],
   "source": [
    "for i in url_bgl[0:5]:\n",
    "    driver.get(i) \n",
    "    time.sleep(3)  \n",
    "    \n",
    "    \n",
    "    #Extracting brand\n",
    "    try:\n",
    "        brand.append(driver.find_element_by_xpath(\"//div[@class='_3Mfu-']/div[2]\").text.split())\n",
    "    except NoSuchElementException as e:\n",
    "        brand.append(\"-\")\n",
    "    \n",
    "       \n",
    "    #Extracting the fuel consumed\n",
    "    try:\n",
    "        fuel.append(driver.find_element_by_xpath(\"//div[@class='aOxkz']/div[1]\").text)\n",
    "    except NoSuchElementException as e:\n",
    "        fuel.append(\"-\")      \n",
    "    \n",
    "    #Extracting the transmission\n",
    "    try:\n",
    "        transmission.append(driver.find_element_by_xpath(\"//div[@class='aOxkz']/div[3]\").text)\n",
    "    except NoSuchElementException as e:\n",
    "        transmission.append(\"-\") \n",
    "        \n",
    "    #Extracting km driven\n",
    "    try:\n",
    "        km.append(driver.find_element_by_xpath(\"//div[@class='aOxkz']/div[2]\").text)\n",
    "    except NoSuchElementException as e:\n",
    "        km.append(\"-\") \n",
    "        \n",
    "    #Extracting location\n",
    "    try:\n",
    "        location.append(driver.find_element_by_xpath(\"//div[@class='_1l939']/div[2]/div[2]/div[2]\").text.split()[-1])\n",
    "    except NoSuchElementException as e:\n",
    "        location.append(\"-\")\n",
    "    \n",
    "    #Extracting the price details\n",
    "    try:\n",
    "        price.append(driver.find_element_by_xpath(\"//div[@class='_31KwC']/div\").text.replace('₹',''))\n",
    "    except NoSuchElementException as e:\n",
    "        price.append(\"-\")"
   ]
  },
  {
   "cell_type": "code",
   "execution_count": 233,
   "id": "a475de19",
   "metadata": {},
   "outputs": [],
   "source": [
    "brand_name=[]\n",
    "year=[]\n",
    "Model=[]\n",
    "for i in brand:\n",
    "    c= i[0]\n",
    "    d= i[-1]\n",
    "    x= i[1:-1]\n",
    "    brand_name.append(c)\n",
    "    year.append(d)\n"
   ]
  },
  {
   "cell_type": "code",
   "execution_count": 256,
   "id": "f31a7fce",
   "metadata": {},
   "outputs": [],
   "source": [
    "brand_name=brand_name[0:1243]\n",
    "year=year[0:1243]\n",
    "fuel=fuel[0:1243]\n",
    "transmission= transmission[0:1243]\n",
    "km=km[0:1243]\n",
    "price=price[0:1243]"
   ]
  },
  {
   "cell_type": "code",
   "execution_count": 257,
   "id": "e511a40e",
   "metadata": {},
   "outputs": [],
   "source": [
    "cars=pd.DataFrame({'Used Car Model':brand_name,'Year of Manufacture':year,'Kilometers Driven':km,\n",
    "                   'Fuel Type':fuel,'Transmission Type':transmission, 'Used Car price':price, 'Loation': location})"
   ]
  },
  {
   "cell_type": "code",
   "execution_count": 258,
   "id": "0084ee38",
   "metadata": {},
   "outputs": [],
   "source": [
    "cars.to_csv(\"used_cars.csv\")"
   ]
  },
  {
   "cell_type": "code",
   "execution_count": null,
   "id": "5f0deb82",
   "metadata": {},
   "outputs": [],
   "source": [
    "driver.close()"
   ]
  },
  {
   "cell_type": "code",
   "execution_count": null,
   "id": "69d923ae",
   "metadata": {},
   "outputs": [],
   "source": []
  }
 ],
 "metadata": {
  "kernelspec": {
   "display_name": "Python 3",
   "language": "python",
   "name": "python3"
  },
  "language_info": {
   "codemirror_mode": {
    "name": "ipython",
    "version": 3
   },
   "file_extension": ".py",
   "mimetype": "text/x-python",
   "name": "python",
   "nbconvert_exporter": "python",
   "pygments_lexer": "ipython3",
   "version": "3.8.8"
  }
 },
 "nbformat": 4,
 "nbformat_minor": 5
}
